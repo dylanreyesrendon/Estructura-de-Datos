{
 "cells": [
  {
   "cell_type": "markdown",
   "metadata": {},
   "source": [
    "# LAB 4.1.3.8"
   ]
  },
  {
   "cell_type": "markdown",
   "metadata": {},
   "source": [
    "## Dylan Reyes Rendon"
   ]
  },
  {
   "cell_type": "code",
   "execution_count": 17,
   "metadata": {},
   "outputs": [
    {
     "name": "stdout",
     "output_type": "stream",
     "text": [
      "366\n"
     ]
    }
   ],
   "source": [
    "def isYearLeap(Year):\n",
    "    if Year < 1582:\n",
    "        return (False)\n",
    "    elif Year % 4 != 0:\n",
    "        return (False)\n",
    "    elif Year % 100 != 0:\n",
    "        return (True)\n",
    "    elif Year % 400 != 0:\n",
    "        return (False)\n",
    "    else:\n",
    "        return (True)\n",
    "def DaysInMonth(Year, Month):\n",
    "    monthDays = [31, 28, 31, 30, 31, 30, 31, 31, 30, 31, 30, 31]\n",
    "    if isYearLeap(Year) and Month == 2:\n",
    "            return 29\n",
    "    return monthDays[Month-1]\n",
    "\n",
    "def DayOfYear(Year, Month, Day):\n",
    "    if Year < 1582:\n",
    "        return None\n",
    "    if Month > 12 or Month < 1:\n",
    "        return None\n",
    "    if Day > DaysInMonth(Year, Month) or Day < 1:\n",
    "        return None\n",
    "    totalDays = Day\n",
    "    Month = Month - 1\n",
    "    while Month > 0:\n",
    "        totalDays += DaysInMonth(Year, Month)\n",
    "        Month -= 1\n",
    "    return totalDays\n",
    "\n",
    "print(DayOfYear(2000, 12, 31))"
   ]
  },
  {
   "cell_type": "code",
   "execution_count": null,
   "metadata": {},
   "outputs": [],
   "source": []
  },
  {
   "cell_type": "code",
   "execution_count": null,
   "metadata": {},
   "outputs": [],
   "source": []
  }
 ],
 "metadata": {
  "kernelspec": {
   "display_name": "Python 3",
   "language": "python",
   "name": "python3"
  },
  "language_info": {
   "codemirror_mode": {
    "name": "ipython",
    "version": 3
   },
   "file_extension": ".py",
   "mimetype": "text/x-python",
   "name": "python",
   "nbconvert_exporter": "python",
   "pygments_lexer": "ipython3",
   "version": "3.8.3"
  }
 },
 "nbformat": 4,
 "nbformat_minor": 4
}
