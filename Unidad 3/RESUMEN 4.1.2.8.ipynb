{
 "cells": [
  {
   "cell_type": "markdown",
   "metadata": {},
   "source": [
    "# Resumen 4.1.2.8"
   ]
  },
  {
   "cell_type": "markdown",
   "metadata": {},
   "source": [
    "## Dylan Jovani Reyes Rendon"
   ]
  },
  {
   "cell_type": "code",
   "execution_count": 1,
   "metadata": {},
   "outputs": [
    {
     "name": "stdout",
     "output_type": "stream",
     "text": [
      "Hola Greg\n"
     ]
    }
   ],
   "source": [
    "# Funcion con un parametro\n",
    "def Hola(nombre):\n",
    "    print(\"Hola\", nombre)\n",
    "Hola(\"Greg\")"
   ]
  },
  {
   "cell_type": "code",
   "execution_count": 2,
   "metadata": {},
   "outputs": [
    {
     "name": "stdout",
     "output_type": "stream",
     "text": [
      "Hola Felipe\n",
      "Hola Sebastian\n"
     ]
    }
   ],
   "source": [
    "# Funcion con dos parametros\n",
    "def HolaTodos(nombre1, nombre2):\n",
    "    print(\"Hola\", nombre2)\n",
    "    print(\"Hola\", nombre1)\n",
    "HolaTodos(\"Sebastian\",\"Felipe\")    \n"
   ]
  },
  {
   "cell_type": "code",
   "execution_count": 3,
   "metadata": {},
   "outputs": [
    {
     "name": "stdout",
     "output_type": "stream",
     "text": [
      "calle: Madrid\n",
      "codigo postal: 34360\n",
      "ciudad: Durango\n",
      "Tu direccion es: Madrid Durango 34360\n"
     ]
    }
   ],
   "source": [
    "# Funcion con tres parametros\n",
    "def direccion(calle, ciudad, codigopostal):\n",
    "    print(\"Tu direccion es:\", calle, ciudad, codigopostal)\n",
    "    \n",
    "c = input(\"calle: \")\n",
    "codp = input(\"codigo postal: \")\n",
    "cd = input(\"ciudad: \")\n",
    "\n",
    "direccion(c,cd,codp)\n"
   ]
  },
  {
   "cell_type": "code",
   "execution_count": 5,
   "metadata": {},
   "outputs": [
    {
     "name": "stdout",
     "output_type": "stream",
     "text": [
      "3\n",
      "-3\n",
      "3\n",
      "3\n",
      "3\n",
      "3\n"
     ]
    }
   ],
   "source": [
    "# Ejemplo 1.- Orden de los parametros relevantes\n",
    "def resta(a, b):\n",
    "    print(a - b)\n",
    "resta(5,2)  # salida= 3\n",
    "resta(2,5)  # salida= -3\n",
    "\n",
    "# Ejemplo 2.- Orden de los argumentos irrelevantes\n",
    "def resta(a,b):\n",
    "    print(a-b)\n",
    "resta(a=5, b=2)   #salida= 3\n",
    "resta(b=2, a=5)   #salida= 3\n",
    "\n",
    "# Ejemplo 3.- Mezcla de argumentos posicionales y con palabras clave\n",
    "def resta(a,b):\n",
    "    print(a - b)\n",
    "resta(5, b=2)   #salida= 3\n",
    "resta(5,2)      #salida= 3\n"
   ]
  },
  {
   "cell_type": "code",
   "execution_count": 6,
   "metadata": {},
   "outputs": [
    {
     "name": "stdout",
     "output_type": "stream",
     "text": [
      "Dylan Reyes\n",
      "Jovani Rendon\n"
     ]
    }
   ],
   "source": [
    "# Asignar valores predefinidos a los argumentos\n",
    "def nombre(nombre, apellido= \"Reyes\"):\n",
    "    print(nombre, apellido)\n",
    "nombre(\"Dylan\")    # Salida= Dylan Reyes\n",
    "nombre(\"Jovani\", \"Rendon\")   # Salida Jovani Rendon (El argumento de la palabra clave es reeplazado por \"Rendon\"\n"
   ]
  },
  {
   "cell_type": "markdown",
   "metadata": {},
   "source": [
    "### EJERCICIO 1"
   ]
  },
  {
   "cell_type": "code",
   "execution_count": 9,
   "metadata": {},
   "outputs": [
    {
     "name": "stdout",
     "output_type": "stream",
     "text": [
      "Mi nombre es:  Bond. James Bond.\n"
     ]
    }
   ],
   "source": [
    "def intro(a=\"James Bond\", b=\"Bond\"):\n",
    "    print(\"Mi nombre es: \", b + \".\", a + \".\")\n",
    "intro()"
   ]
  },
  {
   "cell_type": "markdown",
   "metadata": {},
   "source": [
    "### EJERCICIO 2"
   ]
  },
  {
   "cell_type": "code",
   "execution_count": 12,
   "metadata": {},
   "outputs": [
    {
     "name": "stdout",
     "output_type": "stream",
     "text": [
      "Mi nombre es:  Dylan Reyes. James Bond.\n"
     ]
    }
   ],
   "source": [
    "def intro(a= \"James Bond\", b=\"Bond\"):\n",
    "    print(\"Mi nombre es: \", b + \".\", a + \".\")\n",
    "intro(b=\"Dylan Reyes\")"
   ]
  },
  {
   "cell_type": "markdown",
   "metadata": {},
   "source": [
    "### EJERCICIO 3"
   ]
  },
  {
   "cell_type": "code",
   "execution_count": 11,
   "metadata": {},
   "outputs": [
    {
     "name": "stdout",
     "output_type": "stream",
     "text": [
      "Mi nombre es:  Bond. Dylan.\n"
     ]
    }
   ],
   "source": [
    "def intro(a, b=\"Bond\"):\n",
    "    print(\"Mi nombre es: \", b + \".\", a + \".\")\n",
    "intro(\"Dylan\")"
   ]
  },
  {
   "cell_type": "markdown",
   "metadata": {},
   "source": [
    "### EJERCICIO 4"
   ]
  },
  {
   "cell_type": "code",
   "execution_count": 13,
   "metadata": {},
   "outputs": [
    {
     "ename": "SyntaxError",
     "evalue": "non-default argument follows default argument (<ipython-input-13-07ac7d01f2fa>, line 1)",
     "output_type": "error",
     "traceback": [
      "\u001b[1;36m  File \u001b[1;32m\"<ipython-input-13-07ac7d01f2fa>\"\u001b[1;36m, line \u001b[1;32m1\u001b[0m\n\u001b[1;33m    def suma(a, b=2, c):\u001b[0m\n\u001b[1;37m             ^\u001b[0m\n\u001b[1;31mSyntaxError\u001b[0m\u001b[1;31m:\u001b[0m non-default argument follows default argument\n"
     ]
    }
   ],
   "source": [
    "def suma(a, b=2, c):\n",
    "    print(a + b + c)\n",
    "suma(a=1, c=3)"
   ]
  },
  {
   "cell_type": "code",
   "execution_count": null,
   "metadata": {},
   "outputs": [],
   "source": []
  }
 ],
 "metadata": {
  "kernelspec": {
   "display_name": "Python 3",
   "language": "python",
   "name": "python3"
  },
  "language_info": {
   "codemirror_mode": {
    "name": "ipython",
    "version": 3
   },
   "file_extension": ".py",
   "mimetype": "text/x-python",
   "name": "python",
   "nbconvert_exporter": "python",
   "pygments_lexer": "ipython3",
   "version": "3.8.3"
  }
 },
 "nbformat": 4,
 "nbformat_minor": 4
}
