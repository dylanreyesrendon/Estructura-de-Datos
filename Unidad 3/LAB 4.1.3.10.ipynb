{
 "cells": [
  {
   "cell_type": "markdown",
   "metadata": {},
   "source": [
    "# Lab 4.1.3.10"
   ]
  },
  {
   "cell_type": "markdown",
   "metadata": {},
   "source": [
    "## Dylan Reyes Rendon"
   ]
  },
  {
   "cell_type": "code",
   "execution_count": 2,
   "metadata": {},
   "outputs": [
    {
     "name": "stdout",
     "output_type": "stream",
     "text": [
      "60.31143162393162\n",
      "31.36194444444444\n",
      "23.52145833333333\n",
      "3.9007393587617467\n",
      "7.490910297239916\n",
      "10.009131205673757\n"
     ]
    }
   ],
   "source": [
    "def lit100km(litros):\n",
    "    millas = 100 * 1000 / 1609.344\n",
    "    galones = litros / 3.785411784\n",
    "    return millas / galones\n",
    "def Millasl100km(millas):\n",
    "    litros = 3.785411784\n",
    "    kilometros = millas * 1609.344/1000\n",
    "    km100 = kilometros/100\n",
    "    return litros/km100\n",
    "print(lit100km(3.9))\n",
    "print(lit100km(7.5))\n",
    "print(lit100km(10.))\n",
    "print(Millasl100km(60.3))\n",
    "print(Millasl100km(31.4))\n",
    "print(Millasl100km(23.5))\n"
   ]
  },
  {
   "cell_type": "code",
   "execution_count": null,
   "metadata": {},
   "outputs": [],
   "source": []
  }
 ],
 "metadata": {
  "kernelspec": {
   "display_name": "Python 3",
   "language": "python",
   "name": "python3"
  },
  "language_info": {
   "codemirror_mode": {
    "name": "ipython",
    "version": 3
   },
   "file_extension": ".py",
   "mimetype": "text/x-python",
   "name": "python",
   "nbconvert_exporter": "python",
   "pygments_lexer": "ipython3",
   "version": "3.8.3"
  }
 },
 "nbformat": 4,
 "nbformat_minor": 4
}
