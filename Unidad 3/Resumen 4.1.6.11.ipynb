{
 "cells": [
  {
   "cell_type": "markdown",
   "metadata": {},
   "source": [
    "# Resumen 4.1.6.11"
   ]
  },
  {
   "cell_type": "markdown",
   "metadata": {},
   "source": [
    "## Dylan Jovani Reyes Rendon"
   ]
  },
  {
   "cell_type": "code",
   "execution_count": null,
   "metadata": {},
   "outputs": [],
   "source": [
    "miDiccionario = {\n",
    "    clave1 : valor1,\n",
    "    clave2 : valor2,\n",
    "    clave3 : valor3,\n",
    "    clave4 : valor4,\n",
    "}\n"
   ]
  },
  {
   "cell_type": "code",
   "execution_count": 4,
   "metadata": {},
   "outputs": [
    {
     "name": "stdout",
     "output_type": "stream",
     "text": [
      "tierra\n",
      "agua\n"
     ]
    }
   ],
   "source": [
    "# Si se deseea acceder a un elemento del diccionrio, se puede hacer haciendo referencia a su clave colocandola dentro de corchetes o utilizando el metodo get()\n",
    "\n",
    "PolEspDict = {\n",
    "    \"kwiat\" : \"flor\",\n",
    "    \"woda\" : \"agua\",\n",
    "    \"gleba\" : \"tierra\"\n",
    "    }\n",
    "elemento1 = PolEspDict[\"gleba\"]  # Ejemplo 1\n",
    "print(elemento1)   # Salida tierra\n",
    "\n",
    "elemento2 = PolEspDict.get(\"woda\")\n",
    "print(elemento2)  # Salida agua"
   ]
  },
  {
   "cell_type": "code",
   "execution_count": 6,
   "metadata": {},
   "outputs": [
    {
     "name": "stdout",
     "output_type": "stream",
     "text": [
      "cerradura\n"
     ]
    }
   ],
   "source": [
    "PolEspDict = {\n",
    "    \"zamek\" : \"castillo\",\n",
    "    \"woda\" : \"agua\",\n",
    "    \"gleba\" : \"tierra\"\n",
    "}\n",
    "\n",
    "PolEspDict[\"zamek\"] = \"cerradura\"\n",
    "item = PolEspDict[\"zamek\"]   # Salida cerradura\n",
    "\n",
    "print(item)"
   ]
  },
  {
   "cell_type": "code",
   "execution_count": 9,
   "metadata": {},
   "outputs": [
    {
     "name": "stdout",
     "output_type": "stream",
     "text": [
      "{'Adan': 3456783958}\n",
      "{}\n"
     ]
    }
   ],
   "source": [
    "# Agregar o eliminar la clave\n",
    "\n",
    "MiDirectorioTelefonico = {}        # Diccionario Vacio\n",
    "\n",
    "MiDirectorioTelefonico [\"Adan\"] = 3456783958\n",
    "print(MiDirectorioTelefonico) # Salida {'Adan' : 3456783958}\n",
    "\n",
    "del MiDirectorioTelefonico[\"Adan\"]\n",
    "print(MiDirectorioTelefonico) # Salida {}\n"
   ]
  },
  {
   "cell_type": "code",
   "execution_count": 14,
   "metadata": {},
   "outputs": [
    {
     "name": "stdout",
     "output_type": "stream",
     "text": [
      "Pol/Esp -> zowek : castillo\n",
      "Pol/Esp -> woda : agua\n",
      "Pol/Esp -> gleba : tierra\n"
     ]
    }
   ],
   "source": [
    "PolEspDict = {\n",
    "    \"zowek\" : \"castillo\",\n",
    "    \"woda\" : \"agua\",\n",
    "    \"gleba\" : \"tierra\"\n",
    "}\n",
    "\n",
    "for clave, valor in PolEspDict.items():  # Ciclo for para iterar a travez del diccionario\n",
    "    print(\"Pol/Esp ->\", clave, \":\", valor)"
   ]
  },
  {
   "cell_type": "code",
   "execution_count": 16,
   "metadata": {},
   "outputs": [
    {
     "name": "stdout",
     "output_type": "stream",
     "text": [
      "Si\n"
     ]
    }
   ],
   "source": [
    "PolEspDict = {\n",
    "    \"zowek\" : \"castillo\",\n",
    "    \"woda\" : \"agua\",\n",
    "    \"gleba\" : \"tierra\"\n",
    "}\n",
    "\n",
    "if \"zowek\" in PolEspDict:   # if para comprobar si una clave existe en un diccionario\n",
    "    print(\"Si\")\n",
    "else:\n",
    "    print(\"No\")"
   ]
  },
  {
   "cell_type": "code",
   "execution_count": 17,
   "metadata": {},
   "outputs": [
    {
     "name": "stdout",
     "output_type": "stream",
     "text": [
      "No\n"
     ]
    }
   ],
   "source": [
    "PolEspDict = {\n",
    "    \"zowek\" : \"castillo\",\n",
    "    \"woda\" : \"agua\",\n",
    "    \"gleba\" : \"tierra\"\n",
    "}\n",
    "\n",
    "if \"kwiat\" in PolEspDict:\n",
    "    print(\"Si\")\n",
    "else:\n",
    "    print(\"No\")"
   ]
  },
  {
   "cell_type": "code",
   "execution_count": 19,
   "metadata": {},
   "outputs": [
    {
     "name": "stdout",
     "output_type": "stream",
     "text": [
      "3\n",
      "2\n",
      "0\n"
     ]
    }
   ],
   "source": [
    "PolEspDict = {\n",
    "    \"zowek\" : \"castillo\",\n",
    "    \"woda\" : \"agua\",\n",
    "    \"gleba\" : \"tierra\"\n",
    "}\n",
    "\n",
    "print(len(PolEspDict))  # Salida = 3\n",
    "del PolEspDict[\"zowek\"]  # Elimina el elemento\n",
    "print(len(PolEspDict)) # Salida disminuira 1 por el elemento eliminado\n",
    "\n",
    "PolEspDict.clear()  # Elimina todas las claves del diccionario\n",
    "print(len(PolEspDict))   # Salda = 0\n",
    "\n",
    "del PolEspDict  # Salida del diccionario"
   ]
  },
  {
   "cell_type": "code",
   "execution_count": 21,
   "metadata": {},
   "outputs": [
    {
     "name": "stdout",
     "output_type": "stream",
     "text": [
      "{'zowek': 'castillo', 'woda': 'agua', 'gleba': 'tierra'}\n"
     ]
    }
   ],
   "source": [
    "PolEspDict = {\n",
    "    \"zowek\" : \"castillo\",\n",
    "    \"woda\" : \"agua\",\n",
    "    \"gleba\" : \"tierra\"\n",
    "}\n",
    "\n",
    "copyDict = PolEspDict.copy()     # Copiar un diccionario por el metodo Copy():\n",
    "print(copyDict)"
   ]
  },
  {
   "cell_type": "code",
   "execution_count": null,
   "metadata": {},
   "outputs": [],
   "source": []
  }
 ],
 "metadata": {
  "kernelspec": {
   "display_name": "Python 3",
   "language": "python",
   "name": "python3"
  },
  "language_info": {
   "codemirror_mode": {
    "name": "ipython",
    "version": 3
   },
   "file_extension": ".py",
   "mimetype": "text/x-python",
   "name": "python",
   "nbconvert_exporter": "python",
   "pygments_lexer": "ipython3",
   "version": "3.8.3"
  }
 },
 "nbformat": 4,
 "nbformat_minor": 4
}
