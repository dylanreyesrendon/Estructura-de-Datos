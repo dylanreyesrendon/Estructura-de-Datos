{
 "cells": [
  {
   "cell_type": "markdown",
   "metadata": {},
   "source": [
    "# Ejercicio 5.1.11.3"
   ]
  },
  {
   "cell_type": "markdown",
   "metadata": {},
   "source": [
    "## Dylan Jovani Reyes Rendon"
   ]
  },
  {
   "cell_type": "markdown",
   "metadata": {},
   "source": [
    "### Procesador de Numeros"
   ]
  },
  {
   "cell_type": "code",
   "execution_count": 1,
   "metadata": {},
   "outputs": [
    {
     "name": "stdout",
     "output_type": "stream",
     "text": [
      "Ingresa una linea de numeros, separalos con espacios: 67 32 78 123 96 344\n",
      "El total es: 740.0\n"
     ]
    }
   ],
   "source": [
    "# Este programa muestra un metodo simple que permite ingresar una linea llena de numeros y sumarlos facilmente.\n",
    "\n",
    "\n",
    "#La linea 03: pide al usuario que ingrese una linea llena de cualquier cantidad de numeros (los numeros pueden ser flotantes).\n",
    "#La linea 04: divide la linea en una lista con subcadenas.\n",
    "#La linea 05: se inicializa la suma total a cero.\n",
    "#La linea 06: como la conversión de cadena a flotante puede generar una excepcion, es mejor continuar con la proteccion del bloque try-except.\n",
    "#La linea 07: itera a traves de la lista.\n",
    "#La linea 08: e intenta convertir todos sus elementos en numeros flotantes; si funciona, aumenta la suma.\n",
    "#La linea 09: todo esta bien hasta ahora, así que imprime la suma.\n",
    "#La linea 10: el programa termina aqui en caso de error.\n",
    "#La linea 11: imprime un mensaje de diagnostico que muestra al usuario el motivo del error.\n",
    "\n",
    "#Procesador de números\n",
    "\n",
    "linea = input(\"Ingresa una linea de numeros, separalos con espacios: \")\n",
    "strings = linea.split()\n",
    "total = 0\n",
    "try:\n",
    "    for substr in strings:\n",
    "        total += float(substr)\n",
    "    if total == 0:\n",
    "        print(\" \")\n",
    "    else:\n",
    "        print(\"El total es:\", total)\n",
    "except:\n",
    "    print(substr, \"no es un numero.\")"
   ]
  },
  {
   "cell_type": "code",
   "execution_count": null,
   "metadata": {},
   "outputs": [],
   "source": []
  },
  {
   "cell_type": "code",
   "execution_count": null,
   "metadata": {},
   "outputs": [],
   "source": []
  }
 ],
 "metadata": {
  "kernelspec": {
   "display_name": "Python 3",
   "language": "python",
   "name": "python3"
  },
  "language_info": {
   "codemirror_mode": {
    "name": "ipython",
    "version": 3
   },
   "file_extension": ".py",
   "mimetype": "text/x-python",
   "name": "python",
   "nbconvert_exporter": "python",
   "pygments_lexer": "ipython3",
   "version": "3.8.3"
  }
 },
 "nbformat": 4,
 "nbformat_minor": 4
}
