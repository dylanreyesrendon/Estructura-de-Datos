{
 "cells": [
  {
   "cell_type": "code",
   "execution_count": 8,
   "metadata": {},
   "outputs": [
    {
     "name": "stdin",
     "output_type": "stream",
     "text": [
      "Introduzca un año:  2020\n"
     ]
    },
    {
     "name": "stdout",
     "output_type": "stream",
     "text": [
      "El 2020 es un año bisiesto\n"
     ]
    }
   ],
   "source": [
    "año = int(input(\"Introduzca un año: \"))\n",
    " \n",
    "if año < 1582:\n",
    "   print(\"El año no está dentro del periodo gregoriano\")\n",
    "if año % 4 != 0:\n",
    "   print(\"El\", año, \"es un año común\")\n",
    "elif año % 100 != 0:\n",
    "   print(\"El\", año, \"es un año bisiesto\")\n",
    "elif año % 400 != 0:\n",
    "   print(\"El\", año, \"es un año común\")\n",
    "else:\n",
    "   print(\"El\", año, \"es un año bisiesto\")"
   ]
  },
  {
   "cell_type": "code",
   "execution_count": null,
   "metadata": {},
   "outputs": [],
   "source": []
  }
 ],
 "metadata": {
  "kernelspec": {
   "display_name": "Python 3",
   "language": "python",
   "name": "python3"
  },
  "language_info": {
   "codemirror_mode": {
    "name": "ipython",
    "version": 3
   },
   "file_extension": ".py",
   "mimetype": "text/x-python",
   "name": "python",
   "nbconvert_exporter": "python",
   "pygments_lexer": "ipython3",
   "version": "3.8.3"
  }
 },
 "nbformat": 4,
 "nbformat_minor": 4
}
