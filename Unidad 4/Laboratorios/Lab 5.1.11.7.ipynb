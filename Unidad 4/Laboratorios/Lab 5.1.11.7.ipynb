{
 "cells": [
  {
   "cell_type": "markdown",
   "metadata": {},
   "source": [
    "# Lab 5.1.11.7"
   ]
  },
  {
   "cell_type": "markdown",
   "metadata": {},
   "source": [
    "## Dylan Jovani Reyes Rendon"
   ]
  },
  {
   "cell_type": "markdown",
   "metadata": {},
   "source": [
    "### Palindromos"
   ]
  },
  {
   "cell_type": "code",
   "execution_count": 2,
   "metadata": {},
   "outputs": [
    {
     "name": "stdout",
     "output_type": "stream",
     "text": [
      "Escribe una frase: Hola Mundo\n",
      "No es un palindromo.\n"
     ]
    }
   ],
   "source": [
    "texto = input(\"Escribe una frase: \")\n",
    "\n",
    "# Aqui se quitan los espacios (replace) y se convierte a minusculas (lower).\n",
    "texto = texto.lower()\n",
    "texto = texto.replace(\" \", \"\")\n",
    "\n",
    "# Aqui ocurre la reversion del texto en caso de que este tenga sentido al hacerlo\n",
    "textoInvertido = reversed(texto)\n",
    "\n",
    "# Aqui se comprobara si el texto es un polindromo ya que identificara si es una frase correcta al hacer la reversion.\n",
    "if list(texto) == list(textoInvertido):\n",
    "    print(\"Es un palindromo.\")\n",
    "else:\n",
    "    print(\"No es un palindromo.\")"
   ]
  },
  {
   "cell_type": "code",
   "execution_count": 4,
   "metadata": {},
   "outputs": [
    {
     "name": "stdout",
     "output_type": "stream",
     "text": [
      "Escribe una frase: Son robos no solo son sobornos\n",
      "Es un palindromo.\n"
     ]
    }
   ],
   "source": [
    "texto = input(\"Escribe una frase: \")\n",
    "\n",
    "# Aqui se quitan los espacios (replace) y se convierte a minusculas (lower).\n",
    "texto = texto.lower()\n",
    "texto = texto.replace(\" \", \"\")\n",
    "\n",
    "# Aqui ocurre la reversion del texto en caso de que este tenga sentido al hacerlo\n",
    "textoInvertido = reversed(texto)\n",
    "\n",
    "# Aqui se comprobara si el texto es un polindromo ya que identificara si es una frase correcta al hacer la reversion.\n",
    "if list(texto) == list(textoInvertido):\n",
    "    print(\"Es un palindromo.\")\n",
    "else:\n",
    "    print(\"No es un palindromo.\")"
   ]
  },
  {
   "cell_type": "code",
   "execution_count": 5,
   "metadata": {},
   "outputs": [
    {
     "name": "stdout",
     "output_type": "stream",
     "text": [
      "Escribe una frase: Ligar es ser agil\n",
      "Es un palindromo.\n"
     ]
    }
   ],
   "source": [
    "texto = input(\"Escribe una frase: \")\n",
    "\n",
    "# Aqui se quitan los espacios (replace) y se convierte a minusculas (lower).\n",
    "texto = texto.lower()\n",
    "texto = texto.replace(\" \", \"\")\n",
    "\n",
    "# Aqui ocurre la reversion del texto en caso de que este tenga sentido al hacerlo\n",
    "textoInvertido = reversed(texto)\n",
    "\n",
    "# Aqui se comprobara si el texto es un polindromo ya que identificara si es una frase correcta al hacer la reversion.\n",
    "if list(texto) == list(textoInvertido):\n",
    "    print(\"Es un palindromo.\")\n",
    "else:\n",
    "    print(\"No es un palindromo.\")"
   ]
  }
 ],
 "metadata": {
  "kernelspec": {
   "display_name": "Python 3",
   "language": "python",
   "name": "python3"
  },
  "language_info": {
   "codemirror_mode": {
    "name": "ipython",
    "version": 3
   },
   "file_extension": ".py",
   "mimetype": "text/x-python",
   "name": "python",
   "nbconvert_exporter": "python",
   "pygments_lexer": "ipython3",
   "version": "3.8.3"
  }
 },
 "nbformat": 4,
 "nbformat_minor": 4
}
