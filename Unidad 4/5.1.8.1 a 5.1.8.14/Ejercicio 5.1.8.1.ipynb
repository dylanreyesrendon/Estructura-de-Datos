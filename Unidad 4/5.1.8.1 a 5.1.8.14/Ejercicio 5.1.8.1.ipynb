{
 "cells": [
  {
   "cell_type": "markdown",
   "metadata": {},
   "source": [
    "# Ejercicio 5.1.8.1"
   ]
  },
  {
   "cell_type": "markdown",
   "metadata": {},
   "source": [
    "## Dylan Jovani Reyes Rendon"
   ]
  },
  {
   "cell_type": "markdown",
   "metadata": {},
   "source": [
    "### Funcion Len"
   ]
  },
  {
   "cell_type": "code",
   "execution_count": 1,
   "metadata": {},
   "outputs": [
    {
     "name": "stdout",
     "output_type": "stream",
     "text": [
      "3\n",
      "0\n",
      "3\n"
     ]
    }
   ],
   "source": [
    "# Ejemplo 1\n",
    "# La función len() empleada por cadenas devuelve el número de caracteres que contiene el argumento.\n",
    "palabra = 'por'\n",
    "print(len(palabra))\n",
    "\n",
    "\n",
    "# Ejemplo 2\n",
    "# Aunque esté vacía, tiene una longitud, en este caso 0.\n",
    "vacio = ''\n",
    "print(len(vacio))\n",
    "\n",
    "\n",
    "# Ejemplo 3\n",
    "# No olvides que la diagonal invertida (\\) empleada como un caracter de escape, \n",
    "# no esta incluida en la longitud total de la cadena.\n",
    "yo_soy = 'I\\'m'\n",
    "print(len(yo_soy))"
   ]
  },
  {
   "cell_type": "code",
   "execution_count": null,
   "metadata": {},
   "outputs": [],
   "source": []
  }
 ],
 "metadata": {
  "kernelspec": {
   "display_name": "Python 3",
   "language": "python",
   "name": "python3"
  },
  "language_info": {
   "codemirror_mode": {
    "name": "ipython",
    "version": 3
   },
   "file_extension": ".py",
   "mimetype": "text/x-python",
   "name": "python",
   "nbconvert_exporter": "python",
   "pygments_lexer": "ipython3",
   "version": "3.8.3"
  }
 },
 "nbformat": 4,
 "nbformat_minor": 4
}
