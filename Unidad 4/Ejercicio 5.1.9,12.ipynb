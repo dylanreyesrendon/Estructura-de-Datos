{
 "cells": [
  {
   "cell_type": "markdown",
   "metadata": {},
   "source": [
    "# Ejercicio 5.1.9.12"
   ]
  },
  {
   "cell_type": "markdown",
   "metadata": {},
   "source": [
    "## Dylan Jovani Reyes Rendon"
   ]
  },
  {
   "cell_type": "markdown",
   "metadata": {},
   "source": [
    "### Metodo rfind"
   ]
  },
  {
   "cell_type": "code",
   "execution_count": 1,
   "metadata": {},
   "outputs": [
    {
     "name": "stdout",
     "output_type": "stream",
     "text": [
      "10\n",
      "10\n",
      "5\n"
     ]
    }
   ],
   "source": [
    "''' Los métodos de uno, dos y tres parámetros denominados rfind() hacen casi lo mismo que sus contrapartes \n",
    "(las que carecen del prefijo r), pero comienzan sus búsquedas desde el final de la cadena, \n",
    "no el principio (de ahí el prefijo r, de reversa). '''\n",
    "\n",
    "# Demostración del método rfind()\n",
    "print(\"hola hola hola\".rfind(\"ho\"))\n",
    "print(\"hola hola hola\".rfind(\"ho\", 9))\n",
    "print(\"hola hola hola\".rfind(\"ho\", 3, 9))"
   ]
  },
  {
   "cell_type": "code",
   "execution_count": null,
   "metadata": {},
   "outputs": [],
   "source": []
  }
 ],
 "metadata": {
  "kernelspec": {
   "display_name": "Python 3",
   "language": "python",
   "name": "python3"
  },
  "language_info": {
   "codemirror_mode": {
    "name": "ipython",
    "version": 3
   },
   "file_extension": ".py",
   "mimetype": "text/x-python",
   "name": "python",
   "nbconvert_exporter": "python",
   "pygments_lexer": "ipython3",
   "version": "3.8.3"
  }
 },
 "nbformat": 4,
 "nbformat_minor": 4
}
