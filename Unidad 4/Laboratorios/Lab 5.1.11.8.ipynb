{
 "cells": [
  {
   "cell_type": "markdown",
   "metadata": {},
   "source": [
    "# Lab 5.1.11.8"
   ]
  },
  {
   "cell_type": "markdown",
   "metadata": {},
   "source": [
    "## Dylan Jovani Reyes Rendon"
   ]
  },
  {
   "cell_type": "markdown",
   "metadata": {},
   "source": [
    "### Anagramas"
   ]
  },
  {
   "cell_type": "code",
   "execution_count": null,
   "metadata": {},
   "outputs": [],
   "source": [
    "\"\"\"\"\"Anagrama: Un anagrama es una palabra o frase que resulta de la transposición de letras de otra palabra o frase. \n",
    "Dicho de otra forma, una palabra es anagrama de otra si las dos tienen las mismas letras, \n",
    "con el mismo número de apariciones, pero en un orden diferente.\"\"\"\""
   ]
  },
  {
   "cell_type": "code",
   "execution_count": 1,
   "metadata": {},
   "outputs": [
    {
     "name": "stdout",
     "output_type": "stream",
     "text": [
      "Escribe texto 1: mani\n",
      "Escribe texto 2: mina\n",
      "Son anagramas.\n"
     ]
    }
   ],
   "source": [
    "def esAnagrama(x1, x2):\n",
    "    # Aqui se quitan los espacios(replace) y se convierte a minusculas(lower).\n",
    "    x1 = x1.lower()\n",
    "    x1 = x1.replace(\" \", \"\")\n",
    "    x2 = x2.lower()\n",
    "    x2 = x2.replace(\" \", \"\")\n",
    "    \n",
    "    # Aqui se comprueba si son o no anagramas.\n",
    "    if(sorted(x1)== sorted(x2)): \n",
    "        print(\"Son anagramas.\")  \n",
    "    else: \n",
    "        print(\"No son anagramas.\")          \n",
    "          \n",
    "x1 = input(\"Escribe texto 1: \")\n",
    "x2 = input(\"Escribe texto 2: \")\n",
    "\n",
    "esAnagrama(x1, x2)"
   ]
  },
  {
   "cell_type": "code",
   "execution_count": 2,
   "metadata": {},
   "outputs": [
    {
     "name": "stdout",
     "output_type": "stream",
     "text": [
      "Escribe texto 1: avion\n",
      "Escribe texto 2: coche\n",
      "No son anagramas.\n"
     ]
    }
   ],
   "source": [
    "def esAnagrama(x1, x2):\n",
    "    x1 = x1.lower()\n",
    "    x1 = x1.replace(\" \", \"\")\n",
    "    x2 = x2.lower()\n",
    "    x2 = x2.replace(\" \", \"\")\n",
    "    \n",
    "    if(sorted(x1)== sorted(x2)): \n",
    "        print(\"Son anagramas.\")  \n",
    "    else: \n",
    "        print(\"No son anagramas.\")          \n",
    "          \n",
    "x1 = input(\"Escribe texto 1: \")\n",
    "x2 = input(\"Escribe texto 2: \")\n",
    "\n",
    "esAnagrama(x1, x2)"
   ]
  },
  {
   "cell_type": "code",
   "execution_count": null,
   "metadata": {},
   "outputs": [],
   "source": []
  }
 ],
 "metadata": {
  "kernelspec": {
   "display_name": "Python 3",
   "language": "python",
   "name": "python3"
  },
  "language_info": {
   "codemirror_mode": {
    "name": "ipython",
    "version": 3
   },
   "file_extension": ".py",
   "mimetype": "text/x-python",
   "name": "python",
   "nbconvert_exporter": "python",
   "pygments_lexer": "ipython3",
   "version": "3.8.3"
  }
 },
 "nbformat": 4,
 "nbformat_minor": 4
}
