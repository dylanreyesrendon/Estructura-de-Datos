{
 "cells": [
  {
   "cell_type": "markdown",
   "metadata": {},
   "source": [
    "# Ejercicio 5.1.11.2"
   ]
  },
  {
   "cell_type": "markdown",
   "metadata": {},
   "source": [
    "## Dylan Jovani Reyes Rendon"
   ]
  },
  {
   "cell_type": "markdown",
   "metadata": {},
   "source": [
    "### Descifrando un mensaje con el cifrado Cesar"
   ]
  },
  {
   "cell_type": "code",
   "execution_count": 1,
   "metadata": {},
   "outputs": [
    {
     "name": "stdout",
     "output_type": "stream",
     "text": [
      "Ingresa tu criptograma: IPMBNVOEP\n",
      "HOLAMUNDO\n"
     ]
    }
   ],
   "source": [
    "# Esta es la operacion inversa o contraria del programa anterior (encriptando un mensaje)\n",
    "\n",
    "# Cifrado Cesar - descifrar un mensaje\n",
    "cifrado = input('Ingresa tu criptograma: ')\n",
    "text = ''\n",
    "for char in cifrado:\n",
    "    if not char.isalpha():\n",
    "        continue\n",
    "    char = char.upper()\n",
    "    code = ord(char) - 1\n",
    "    if code < ord('A'):\n",
    "        code = ord('Z')\n",
    "    text += chr(code)\n",
    "\n",
    "print(text)"
   ]
  },
  {
   "cell_type": "code",
   "execution_count": null,
   "metadata": {},
   "outputs": [],
   "source": []
  }
 ],
 "metadata": {
  "kernelspec": {
   "display_name": "Python 3",
   "language": "python",
   "name": "python3"
  },
  "language_info": {
   "codemirror_mode": {
    "name": "ipython",
    "version": 3
   },
   "file_extension": ".py",
   "mimetype": "text/x-python",
   "name": "python",
   "nbconvert_exporter": "python",
   "pygments_lexer": "ipython3",
   "version": "3.8.3"
  }
 },
 "nbformat": 4,
 "nbformat_minor": 4
}
