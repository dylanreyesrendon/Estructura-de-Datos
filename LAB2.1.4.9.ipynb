{
 "cells": [
  {
   "cell_type": "code",
   "execution_count": 1,
   "metadata": {},
   "outputs": [
    {
     "name": "stdout",
     "output_type": "stream",
     "text": [
      "7.38  millas son 11.88 kilometros\n",
      "12.25 kilometros son 7.61 millas\n",
      "\n",
      "Resultados Esperando: \n",
      "7.38 millas son 11.88 kilometros \n",
      "12.25 kilometros son 7.61 millas\n"
     ]
    }
   ],
   "source": [
    "kilometros = 12.25\n",
    "millas = 7.38\n",
    "millas_a_kilometros = millas*1.61\n",
    "kilometros_a_millas = kilometros/1.61\n",
    "\n",
    "print(millas,\" millas son\", round(millas_a_kilometros, 2), \"kilometros\")\n",
    "print(kilometros, \"kilometros son\", round(kilometros_a_millas, 2), \"millas\")\n",
    "\n",
    "print(\"\\nResultados Esperando: \\n7.38 millas son 11.88 kilometros \\n12.25 kilometros son 7.61 millas\")\n"
   ]
  },
  {
   "cell_type": "code",
   "execution_count": null,
   "metadata": {},
   "outputs": [],
   "source": []
  }
 ],
 "metadata": {
  "kernelspec": {
   "display_name": "Python 3",
   "language": "python",
   "name": "python3"
  },
  "language_info": {
   "codemirror_mode": {
    "name": "ipython",
    "version": 3
   },
   "file_extension": ".py",
   "mimetype": "text/x-python",
   "name": "python",
   "nbconvert_exporter": "python",
   "pygments_lexer": "ipython3",
   "version": "3.8.3"
  }
 },
 "nbformat": 4,
 "nbformat_minor": 4
}
