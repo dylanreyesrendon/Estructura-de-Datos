{
 "cells": [
  {
   "cell_type": "markdown",
   "metadata": {},
   "source": [
    "# Resumen 4.1.6.12"
   ]
  },
  {
   "cell_type": "markdown",
   "metadata": {},
   "source": [
    "## Dylan Jovani Reyes Rendon"
   ]
  },
  {
   "cell_type": "markdown",
   "metadata": {},
   "source": [
    "### Ejercicios "
   ]
  },
  {
   "cell_type": "code",
   "execution_count": 4,
   "metadata": {},
   "outputs": [
    {
     "name": "stdout",
     "output_type": "stream",
     "text": [
      "2\n"
     ]
    }
   ],
   "source": [
    "mitupla = (1, 2, 3)\n",
    "print(mitupla[1])\n"
   ]
  },
  {
   "cell_type": "code",
   "execution_count": 5,
   "metadata": {},
   "outputs": [
    {
     "name": "stdout",
     "output_type": "stream",
     "text": [
      "3\n"
     ]
    }
   ],
   "source": [
    "mitupla = (1, 2, 3)\n",
    "print(mitupla[2])\n"
   ]
  },
  {
   "cell_type": "code",
   "execution_count": 6,
   "metadata": {},
   "outputs": [
    {
     "name": "stdout",
     "output_type": "stream",
     "text": [
      "6\n"
     ]
    }
   ],
   "source": [
    "tupla = 1, 2, 3\n",
    "a, b, c = tupla\n",
    "\n",
    "print(a * b * c)"
   ]
  },
  {
   "cell_type": "code",
   "execution_count": 7,
   "metadata": {},
   "outputs": [
    {
     "name": "stdout",
     "output_type": "stream",
     "text": [
      "4\n"
     ]
    }
   ],
   "source": [
    "# Completa el codigo para emplear correctamente el metodo count() para encontrar la cantidadde 2 duplicados en la tupla siguiente\n",
    "\n",
    "tupla = 1, 2, 3, 2, 4, 5, 6, 2, 7, 2, 8, 9\n",
    "duplicados = tupla.count(2)\n",
    "\n",
    "print(duplicados)   # Salida 4"
   ]
  },
  {
   "cell_type": "code",
   "execution_count": 8,
   "metadata": {},
   "outputs": [
    {
     "name": "stdout",
     "output_type": "stream",
     "text": [
      "{'Adam Smith': 'A', 'Judy Paxton': 'B', 'Peter Parker': 'A', 'Mary Jane': 'B'}\n"
     ]
    }
   ],
   "source": [
    "# Escribe un programa que una los diccionarios (d1 y d2) para crear uno nuevo\n",
    "d1 = {'Adam Smith' : 'A', \"Judy Paxton\" : 'B'}\n",
    "d2 = {'Peter Parker' : 'A', 'Mary Jane' : 'B'}\n",
    "d3 = {}\n",
    "\n",
    "for elemento in (d1, d2):\n",
    "    d3.update(elemento)\n",
    "    \n",
    "print(d3)"
   ]
  },
  {
   "cell_type": "code",
   "execution_count": 12,
   "metadata": {},
   "outputs": [
    {
     "name": "stdout",
     "output_type": "stream",
     "text": [
      "('carro', 'Ford', 'flor', 'tulipan')\n"
     ]
    }
   ],
   "source": [
    "# Escribe un programa que convieta la lista 1 en una tupla\n",
    "\n",
    "lista = [\"carro\", \"Ford\", \"flor\", \"tulipan\"]\n",
    "\n",
    "tupla = tuple(lista)\n",
    "print(tupla)"
   ]
  },
  {
   "cell_type": "code",
   "execution_count": 18,
   "metadata": {},
   "outputs": [
    {
     "name": "stdout",
     "output_type": "stream",
     "text": [
      "{'verde': '#0008000', 'azul': '#00000FF'}\n"
     ]
    }
   ],
   "source": [
    "# Programa que convierte la tupla colores en un diccionario\n",
    "\n",
    "colores =((\"verde\", \"#0008000\"), (\"azul\", \"#00000FF\"))\n",
    "\n",
    "coldicc= dict(colores)\n",
    "\n",
    "print(coldicc)"
   ]
  },
  {
   "cell_type": "code",
   "execution_count": 20,
   "metadata": {},
   "outputs": [
    {
     "name": "stdout",
     "output_type": "stream",
     "text": [
      "{'A': 1, 'B': 2}\n"
     ]
    }
   ],
   "source": [
    "MiDict = {\"A\" : 1, \"B\" : 2}\n",
    "CopyMiDict = MiDict.copy()\n",
    "MiDict.clear()\n",
    "\n",
    "print(CopyMiDict)"
   ]
  },
  {
   "cell_type": "code",
   "execution_count": 29,
   "metadata": {},
   "outputs": [
    {
     "name": "stdout",
     "output_type": "stream",
     "text": [
      "Blanco : (255, 255, 255)\n",
      "Gris : (128, 128, 128)\n",
      "Rojo : (255, 0, 0)\n",
      "Verde : (0, 128, 0)\n"
     ]
    }
   ],
   "source": [
    "colores = { \n",
    "    \"Blanco\" : (255, 255, 255), \"Gris\" : (128, 128, 128), \"Rojo\" : (255, 0, 0), \"Verde\" : (0, 128, 0)\n",
    "}\n",
    "for col, rgb in colores.items():\n",
    "    print(col, \":\", rgb)\n"
   ]
  },
  {
   "cell_type": "code",
   "execution_count": null,
   "metadata": {},
   "outputs": [],
   "source": []
  }
 ],
 "metadata": {
  "kernelspec": {
   "display_name": "Python 3",
   "language": "python",
   "name": "python3"
  },
  "language_info": {
   "codemirror_mode": {
    "name": "ipython",
    "version": 3
   },
   "file_extension": ".py",
   "mimetype": "text/x-python",
   "name": "python",
   "nbconvert_exporter": "python",
   "pygments_lexer": "ipython3",
   "version": "3.8.3"
  }
 },
 "nbformat": 4,
 "nbformat_minor": 4
}
