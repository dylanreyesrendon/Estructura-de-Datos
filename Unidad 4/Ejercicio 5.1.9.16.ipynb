{
 "cells": [
  {
   "cell_type": "markdown",
   "metadata": {},
   "source": [
    "# Ejercicio 5.1.9.16"
   ]
  },
  {
   "cell_type": "markdown",
   "metadata": {},
   "source": [
    "## Dylan Jovani Reyes Rendon"
   ]
  },
  {
   "cell_type": "markdown",
   "metadata": {},
   "source": [
    "### Metodo Swapcase"
   ]
  },
  {
   "cell_type": "code",
   "execution_count": 5,
   "metadata": {},
   "outputs": [
    {
     "name": "stdout",
     "output_type": "stream",
     "text": [
      "yO SÉ QUE NO SÉ NADA.\n",
      "\n",
      "tODO FLUYE NADA PERMANECE.\n",
      "\n",
      "la verdad siempre es provechosa ; el amor a veces hiere.\n",
      "\n"
     ]
    }
   ],
   "source": [
    "#El método swapcase() crea una nueva cadena intercambiando todas las letras por mayúsculas o minúsculas dentro de la cadena original: los caracteres en mayúscula se convierten en minúsculas y viceversa.\n",
    "#Todos los demás caracteres permanecen intactos.\n",
    "# Demostración del método swapcase()\n",
    "\n",
    "print(\"Yo sé que no sé nada.\".swapcase())\n",
    "\n",
    "print()\n",
    "\n",
    "print(\"Todo fluye nada permanece.\".swapcase())\n",
    "\n",
    "print()\n",
    "\n",
    "print(\"LA VERDAD SIEMPRE ES PROVECHOSA ; EL AMOR A VECES HIERE.\".swapcase())\n",
    "\n",
    "print()"
   ]
  },
  {
   "cell_type": "code",
   "execution_count": null,
   "metadata": {},
   "outputs": [],
   "source": []
  },
  {
   "cell_type": "code",
   "execution_count": null,
   "metadata": {},
   "outputs": [],
   "source": []
  }
 ],
 "metadata": {
  "kernelspec": {
   "display_name": "Python 3",
   "language": "python",
   "name": "python3"
  },
  "language_info": {
   "codemirror_mode": {
    "name": "ipython",
    "version": 3
   },
   "file_extension": ".py",
   "mimetype": "text/x-python",
   "name": "python",
   "nbconvert_exporter": "python",
   "pygments_lexer": "ipython3",
   "version": "3.8.3"
  }
 },
 "nbformat": 4,
 "nbformat_minor": 4
}
