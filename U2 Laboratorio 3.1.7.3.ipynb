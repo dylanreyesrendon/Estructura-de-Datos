{
 "cells": [
  {
   "cell_type": "markdown",
   "metadata": {},
   "source": [
    "# Laboratorio 3.1.7.3"
   ]
  },
  {
   "cell_type": "markdown",
   "metadata": {},
   "source": [
    "## Agregar 8 piezas al tablero"
   ]
  },
  {
   "cell_type": "markdown",
   "metadata": {},
   "source": [
    "### Dylan Jovani Reyes Rendon"
   ]
  },
  {
   "cell_type": "code",
   "execution_count": 2,
   "metadata": {},
   "outputs": [
    {
     "name": "stdout",
     "output_type": "stream",
     "text": [
      "[['_', '_', '_', '_', '_', '_', '_', '_'], ['_', '_', '_', '_', '_', '_', '_', '_'], ['_', '_', '_', '_', '_', '_', '_', '_'], ['_', '_', '_', '_', '_', '_', '_', '_'], ['_', '_', '_', '_', '_', '_', '_', '_'], ['_', '_', '_', '_', '_', '_', '_', '_'], ['_', '_', '_', '_', '_', '_', '_', '_'], ['_', '_', '_', '_', '_', '_', '_', '_']]\n"
     ]
    }
   ],
   "source": [
    "EMPTY = \"_\"\n",
    "TORRE = \"TORRE\"\n",
    "CABALLO = \"CABALLO\"\n",
    "ALFIL = \"ALFIL\"\n",
    "REY = \"REY\"\n",
    "REINA = \"REINA\"\n",
    "tablero = []\n",
    "for i in range(8):\n",
    "    fila = [EMPTY for i in range(8)]\n",
    "    tablero.append(fila)\n",
    "    \n",
    "tablero[0][0] = TORRE\n",
    "tablero[0][7] = TORRE\n",
    "tablero[7][0] = TORRE\n",
    "tablero[7][7] = TORRE\n",
    "tablero[0][1] = TORRE\n",
    "tablero[0][6] = TORRE\n",
    "tablero[7][1] = TORRE\n",
    "tablero[7][6] = TORRE\n",
    "tablero[0][2] = TORRE\n",
    "tablero[0][5] = TORRE\n",
    "tablero[7][2] = TORRE\n",
    "tablero[7][5] = TORRE\n",
    "tablero[0][3] = TORRE\n",
    "tablero[7][3] = TORRE\n",
    "tablero[0][4] = TORRE\n",
    "tablero[7][4] = TORRE\n",
    "\n",
    "print(tablero)"
   ]
  },
  {
   "cell_type": "code",
   "execution_count": null,
   "metadata": {},
   "outputs": [],
   "source": []
  }
 ],
 "metadata": {
  "kernelspec": {
   "display_name": "Python 3",
   "language": "python",
   "name": "python3"
  },
  "language_info": {
   "codemirror_mode": {
    "name": "ipython",
    "version": 3
   },
   "file_extension": ".py",
   "mimetype": "text/x-python",
   "name": "python",
   "nbconvert_exporter": "python",
   "pygments_lexer": "ipython3",
   "version": "3.8.3"
  }
 },
 "nbformat": 4,
 "nbformat_minor": 4
}
