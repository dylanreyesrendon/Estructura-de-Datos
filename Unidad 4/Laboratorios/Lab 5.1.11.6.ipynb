{
 "cells": [
  {
   "cell_type": "markdown",
   "metadata": {},
   "source": [
    "# Lab 5.1.11.6"
   ]
  },
  {
   "cell_type": "markdown",
   "metadata": {},
   "source": [
    "## Dylan Jovani Reyes Rendon"
   ]
  },
  {
   "cell_type": "markdown",
   "metadata": {},
   "source": [
    "### Mejora al Cifrado Cesar"
   ]
  },
  {
   "cell_type": "code",
   "execution_count": 1,
   "metadata": {},
   "outputs": [
    {
     "name": "stdout",
     "output_type": "stream",
     "text": [
      "Tu texto: abecedario\n",
      "Valor de desplazamiento: 8\n",
      "Texto cifrado:  ijmkmlizpw\n"
     ]
    }
   ],
   "source": [
    "# Introducimos texto a cifrar.\n",
    "texto = input(\"Tu texto: \")\n",
    "\n",
    "# Se crean las cadenas de caracteres.\n",
    "if texto == texto.upper(): #Para Mayusculas.\n",
    "    abcd = \"ABCDEFGHIJKLMNÑOPQRSTUVWXYZ\"\n",
    "else:\n",
    "\n",
    "#Para minusculas.\n",
    "    abcd = \"abcdefghijklmnñopqrstuvwxyz\"\n",
    "\n",
    "# Se definen los valores de desplazamiento.\n",
    "desp = int(input(\"Valor de desplazamiento: \"))\n",
    "\n",
    "# Se crea la cadena cifrad.\n",
    "cifrad = \"\"\n",
    "\n",
    "# Se realiza el cifrado.\n",
    "for c in texto:\n",
    "    if c in abc:\n",
    "        cifrad += abc[(abc.index(c) + desp % (len(abc)))]\n",
    "    else:\n",
    "        cifrad += c\n",
    "\n",
    "# Se visualiza el texto final.\n",
    "print(\"Texto cifrado: \", cifrad)"
   ]
  },
  {
   "cell_type": "code",
   "execution_count": null,
   "metadata": {},
   "outputs": [],
   "source": []
  }
 ],
 "metadata": {
  "kernelspec": {
   "display_name": "Python 3",
   "language": "python",
   "name": "python3"
  },
  "language_info": {
   "codemirror_mode": {
    "name": "ipython",
    "version": 3
   },
   "file_extension": ".py",
   "mimetype": "text/x-python",
   "name": "python",
   "nbconvert_exporter": "python",
   "pygments_lexer": "ipython3",
   "version": "3.8.3"
  }
 },
 "nbformat": 4,
 "nbformat_minor": 4
}
