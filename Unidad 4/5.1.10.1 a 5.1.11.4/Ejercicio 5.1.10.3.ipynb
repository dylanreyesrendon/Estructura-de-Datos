{
 "cells": [
  {
   "cell_type": "markdown",
   "metadata": {},
   "source": [
    "# Ejercicio 5.1.10.3"
   ]
  },
  {
   "cell_type": "markdown",
   "metadata": {},
   "source": [
    "## Dylan Jovani Reyes Rendon"
   ]
  },
  {
   "cell_type": "markdown",
   "metadata": {},
   "source": [
    "### Ordenamiento"
   ]
  },
  {
   "cell_type": "code",
   "execution_count": 3,
   "metadata": {},
   "outputs": [
    {
     "name": "stdout",
     "output_type": "stream",
     "text": [
      "['verde', 'cafe', 'negro', 'rosa', 'amarillo', 'blanco', 'azul', 'morado', 'gris']\n",
      "['amarillo', 'azul', 'blanco', 'cafe', 'gris', 'morado', 'negro', 'rosa', 'verde']\n",
      "\n"
     ]
    }
   ],
   "source": [
    "# En general, Python ofrece dos formas diferentes de ordenar una lista.\n",
    "#El primero se implementa con una funcion llamada sorted().\n",
    "#La funcion toma un argumento (una lista) y devuelve una nueva lista, con los elementos ordenados del argumento. \n",
    "\n",
    "# Demostración de la función sorted()\n",
    "firstGreek = ['verde', 'cafe', 'negro', 'rosa', 'amarillo', 'blanco', 'azul', 'morado', 'gris'] # En este caso se ordenaran por orden alfabetico\n",
    "firstGreek2 = sorted(firstGreek)\n",
    "\n",
    "print(firstGreek)\n",
    "print(firstGreek2)\n",
    "\n",
    "print()"
   ]
  },
  {
   "cell_type": "code",
   "execution_count": 6,
   "metadata": {},
   "outputs": [
    {
     "name": "stdout",
     "output_type": "stream",
     "text": [
      "['verde', 'cafe', 'negro', 'rosa', 'amarillo', 'blanco', 'azul', 'morado', 'gris']\n",
      "['amarillo', 'azul', 'blanco', 'cafe', 'gris', 'morado', 'negro', 'rosa', 'verde']\n"
     ]
    }
   ],
   "source": [
    "# El segundo método afecta a la lista misma - no se crea una nueva lista. \n",
    "# El ordenamiento se realiza por el método denominado sort().\n",
    "\n",
    "# Demostración del metodo sort()\n",
    "secondGreek = ['verde', 'cafe', 'negro', 'rosa', 'amarillo', 'blanco', 'azul', 'morado', 'gris']\n",
    "print(secondGreek)\n",
    "\n",
    "secondGreek.sort()\n",
    "print(secondGreek)"
   ]
  },
  {
   "cell_type": "code",
   "execution_count": null,
   "metadata": {},
   "outputs": [],
   "source": []
  }
 ],
 "metadata": {
  "kernelspec": {
   "display_name": "Python 3",
   "language": "python",
   "name": "python3"
  },
  "language_info": {
   "codemirror_mode": {
    "name": "ipython",
    "version": 3
   },
   "file_extension": ".py",
   "mimetype": "text/x-python",
   "name": "python",
   "nbconvert_exporter": "python",
   "pygments_lexer": "ipython3",
   "version": "3.8.3"
  }
 },
 "nbformat": 4,
 "nbformat_minor": 4
}
