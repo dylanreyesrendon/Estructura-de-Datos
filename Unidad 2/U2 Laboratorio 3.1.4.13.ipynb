{
 "cells": [
  {
   "cell_type": "markdown",
   "metadata": {},
   "source": [
    "# Laboratorio 3.1.4.13"
   ]
  },
  {
   "cell_type": "markdown",
   "metadata": {},
   "source": [
    "## Listas Lo Basico (The Beatles)"
   ]
  },
  {
   "cell_type": "markdown",
   "metadata": {},
   "source": [
    "### Dylan Jovani Reyes Rendon"
   ]
  },
  {
   "cell_type": "code",
   "execution_count": 1,
   "metadata": {},
   "outputs": [
    {
     "name": "stdout",
     "output_type": "stream",
     "text": [
      "Paso 1:\n",
      "[] \n",
      "\n",
      "Paso 2:\n",
      "['John Lennon', 'Paul McCartney', 'Geroge Harrison'] \n",
      "\n",
      "Paso 3:\n",
      "Agrega a los siguientes miembros a la lista:\n",
      "Stu Sutcliffe\n",
      "Pete Best\n",
      "Stu Sutcliffe\n",
      "Pete Best\n",
      "['John Lennon', 'Paul McCartney', 'Geroge Harrison', 'Stu Sutcliffe', 'Pete Best'] \n",
      "\n",
      "Paso 4:\n",
      "['John Lennon', 'Paul McCartney', 'Geroge Harrison'] \n",
      "\n",
      "Paso 5:\n",
      "['Ringo Starr', 'John Lennon', 'Paul McCartney', 'Geroge Harrison'] \n",
      "\n",
      "Los Fab 4\n"
     ]
    }
   ],
   "source": [
    "# Paso 1\n",
    "print(\"Paso 1:\")\n",
    "beatles = []\n",
    "print(beatles, \"\\n\")\n",
    "# Paso 2\n",
    "print(\"Paso 2:\")\n",
    "beatles.append (\"John Lennon\")\n",
    "beatles.append (\"Paul McCartney\")\n",
    "beatles.append (\"Geroge Harrison\")\n",
    "print(beatles,\"\\n\")\n",
    "# Paso 3\n",
    "print(\"Paso 3:\")\n",
    "print(\"Agrega a los siguientes miembros a la lista:\")\n",
    "print(\"Stu Sutcliffe\")\n",
    "print(\"Pete Best\")\n",
    "for i in range (2):\n",
    "    beatles.append (input())\n",
    "print(beatles,\"\\n\")\n",
    "# Paso 4\n",
    "print(\"Paso 4:\")\n",
    "del beatles [3:5]\n",
    "print(beatles,\"\\n\")\n",
    "# Paso 5\n",
    "print(\"Paso 5:\")\n",
    "for i in range(1):\n",
    "    beatles.insert(0, \"Ringo Starr\")\n",
    "print(beatles,\"\\n\")\n",
    "# Longitud de la lista\n",
    "print(\"Los Fab\", len(beatles))\n",
    "\n"
   ]
  },
  {
   "cell_type": "code",
   "execution_count": null,
   "metadata": {},
   "outputs": [],
   "source": []
  }
 ],
 "metadata": {
  "kernelspec": {
   "display_name": "Python 3",
   "language": "python",
   "name": "python3"
  },
  "language_info": {
   "codemirror_mode": {
    "name": "ipython",
    "version": 3
   },
   "file_extension": ".py",
   "mimetype": "text/x-python",
   "name": "python",
   "nbconvert_exporter": "python",
   "pygments_lexer": "ipython3",
   "version": "3.8.3"
  }
 },
 "nbformat": 4,
 "nbformat_minor": 4
}
