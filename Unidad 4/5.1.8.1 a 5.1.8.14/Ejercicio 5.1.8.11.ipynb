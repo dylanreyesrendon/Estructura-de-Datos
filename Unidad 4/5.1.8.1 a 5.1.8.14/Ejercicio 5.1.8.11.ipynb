{
 "cells": [
  {
   "cell_type": "markdown",
   "metadata": {},
   "source": [
    "# Ejercicio 5.1.8.11"
   ]
  },
  {
   "cell_type": "markdown",
   "metadata": {},
   "source": [
    "## Dylan Jovani Reyes Rendon"
   ]
  },
  {
   "cell_type": "markdown",
   "metadata": {},
   "source": [
    "### Operaciones con cadena min()"
   ]
  },
  {
   "cell_type": "code",
   "execution_count": 1,
   "metadata": {},
   "outputs": [
    {
     "name": "stdout",
     "output_type": "stream",
     "text": [
      "A\n"
     ]
    }
   ],
   "source": [
    "# Esta función encuentra el elemento mínimo de la secuencia pasada como argumento. No puede estar vacía.\n",
    "\n",
    "# Demonstrando min() - Ejemplo 1\n",
    "print(min(\"aAbByYzZ\"))\n",
    "\n",
    "# La tabla ASCII comienza representando las mayúsculas antes que las minúsculas."
   ]
  },
  {
   "cell_type": "code",
   "execution_count": 2,
   "metadata": {},
   "outputs": [
    {
     "name": "stdout",
     "output_type": "stream",
     "text": [
      "[ ]\n",
      "0\n"
     ]
    }
   ],
   "source": [
    "# Estos presentan más que solo cadenas. \n",
    "# Demonstrando min() - Examplos 2 y 3\n",
    "t = 'Los Caballeros Que Dicen \"¡Ni!\"'\n",
    "print('[' + min(t) + ']')\n",
    "\n",
    "t = [0, 1, 2]\n",
    "print(min(t))\n",
    "\n",
    "# Los corchetes son para evitar que los espacios pasen por alto en la pantalla."
   ]
  },
  {
   "cell_type": "code",
   "execution_count": null,
   "metadata": {},
   "outputs": [],
   "source": []
  }
 ],
 "metadata": {
  "kernelspec": {
   "display_name": "Python 3",
   "language": "python",
   "name": "python3"
  },
  "language_info": {
   "codemirror_mode": {
    "name": "ipython",
    "version": 3
   },
   "file_extension": ".py",
   "mimetype": "text/x-python",
   "name": "python",
   "nbconvert_exporter": "python",
   "pygments_lexer": "ipython3",
   "version": "3.8.3"
  }
 },
 "nbformat": 4,
 "nbformat_minor": 4
}
