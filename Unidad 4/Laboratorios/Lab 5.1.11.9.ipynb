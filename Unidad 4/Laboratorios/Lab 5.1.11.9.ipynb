{
 "cells": [
  {
   "cell_type": "markdown",
   "metadata": {},
   "source": [
    "# Lab 5.1.11.9"
   ]
  },
  {
   "cell_type": "markdown",
   "metadata": {},
   "source": [
    "## Dylan Jovani Reyes Rendon"
   ]
  },
  {
   "cell_type": "markdown",
   "metadata": {},
   "source": [
    "### Digito de Vida"
   ]
  },
  {
   "cell_type": "code",
   "execution_count": 27,
   "metadata": {},
   "outputs": [
    {
     "name": "stdout",
     "output_type": "stream",
     "text": [
      "Fecha de cumpleaños en digitos: 15122001\n",
      "3\n"
     ]
    }
   ],
   "source": [
    "def digitoDeVida(x):\n",
    "    suma = 0\n",
    "    \n",
    "# Ciclo para sumar los numeros ingresados\n",
    "    while x:\n",
    "        suma += x % 10\n",
    "        x //= 10\n",
    "    \n",
    "# El digito no debe resultar mayor a 9\n",
    "    if suma > 9:\n",
    "        return digitoDeVida(suma)\n",
    "\n",
    "    return suma\n",
    "\n",
    "x = int(input(\"Fecha de cumpleaños en digitos: \"))\n",
    "\n",
    "print(digitoDeVida(x))"
   ]
  },
  {
   "cell_type": "code",
   "execution_count": 28,
   "metadata": {},
   "outputs": [
    {
     "name": "stdout",
     "output_type": "stream",
     "text": [
      "Ingrese fecha de cumpleaños: 15122001\n",
      "La suma de los digitos es: 12\n"
     ]
    }
   ],
   "source": [
    "# Otra manera de realizar una suma de digitos es la siguiente:\n",
    "sumDigit, extNum = 0, 0\n",
    "x = int(input(\"Ingrese fecha de cumpleaños: \"))\n",
    "while x != 0:\n",
    "    extNum = x % 10\n",
    "    x //= 10\n",
    "    sumDigit += extNum\n",
    "print(\"La suma de los digitos es: {}\".format(sumDigit))\n",
    "\n",
    "# En este caso el valor no se divide por lo que obtendremos la suma completa"
   ]
  },
  {
   "cell_type": "code",
   "execution_count": null,
   "metadata": {},
   "outputs": [],
   "source": []
  }
 ],
 "metadata": {
  "kernelspec": {
   "display_name": "Python 3",
   "language": "python",
   "name": "python3"
  },
  "language_info": {
   "codemirror_mode": {
    "name": "ipython",
    "version": 3
   },
   "file_extension": ".py",
   "mimetype": "text/x-python",
   "name": "python",
   "nbconvert_exporter": "python",
   "pygments_lexer": "ipython3",
   "version": "3.8.3"
  }
 },
 "nbformat": 4,
 "nbformat_minor": 4
}
