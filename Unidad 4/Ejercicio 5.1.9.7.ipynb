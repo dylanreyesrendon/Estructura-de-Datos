{
 "cells": [
  {
   "cell_type": "markdown",
   "metadata": {},
   "source": [
    "# Ejercicio 5.1.9.7"
   ]
  },
  {
   "cell_type": "markdown",
   "metadata": {},
   "source": [
    "## Dylan Jovani Reyes Rendon"
   ]
  },
  {
   "cell_type": "markdown",
   "metadata": {},
   "source": [
    "### método islower, metodo isspace y metodo issupper"
   ]
  },
  {
   "cell_type": "code",
   "execution_count": 3,
   "metadata": {},
   "outputs": [
    {
     "name": "stdout",
     "output_type": "stream",
     "text": [
      "True\n",
      "False\n",
      "False\n"
     ]
    }
   ],
   "source": [
    "# El método islower() es una variante de isalpha() - solo acepta letras minúsculas.\n",
    "\n",
    "# Ejemplo 1: Demostración del método islower()\n",
    "print(\"dylan\".islower())\n",
    "print('JOVANI'.islower())\n",
    "print('jOvAnI'.islower())"
   ]
  },
  {
   "cell_type": "code",
   "execution_count": 5,
   "metadata": {},
   "outputs": [
    {
     "name": "stdout",
     "output_type": "stream",
     "text": [
      "True\n",
      "True\n",
      "False\n"
     ]
    }
   ],
   "source": [
    "# El método isspace() identifica espacios en blanco solamente - no tiene en cuenta ningún otro caracter (daría False).\n",
    "\n",
    "# Ejemplo 2 = Demostración del método isspace()\n",
    "print(' \\n '.isspace())\n",
    "print(\" \".isspace())\n",
    "print(\"hola hola hola\".isspace())"
   ]
  },
  {
   "cell_type": "code",
   "execution_count": 8,
   "metadata": {},
   "outputs": [
    {
     "name": "stdout",
     "output_type": "stream",
     "text": [
      "True\n",
      "False\n",
      "True\n",
      "False\n"
     ]
    }
   ],
   "source": [
    "# El método isupper() es la versión en mayúscula de islower() - se concentra solo en letras mayúsculas.\n",
    "\n",
    "# Ejemplo 3: Demostración del método isupper() \n",
    "print(\"REYES\".isupper())\n",
    "print('rendon'.isupper())\n",
    "print('HOLA'.isupper())\n",
    "print('CraCK'.isupper())\n"
   ]
  },
  {
   "cell_type": "code",
   "execution_count": null,
   "metadata": {},
   "outputs": [],
   "source": []
  }
 ],
 "metadata": {
  "kernelspec": {
   "display_name": "Python 3",
   "language": "python",
   "name": "python3"
  },
  "language_info": {
   "codemirror_mode": {
    "name": "ipython",
    "version": 3
   },
   "file_extension": ".py",
   "mimetype": "text/x-python",
   "name": "python",
   "nbconvert_exporter": "python",
   "pygments_lexer": "ipython3",
   "version": "3.8.3"
  }
 },
 "nbformat": 4,
 "nbformat_minor": 4
}
