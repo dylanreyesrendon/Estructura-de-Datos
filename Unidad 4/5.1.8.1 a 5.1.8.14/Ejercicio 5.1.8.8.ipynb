{
 "cells": [
  {
   "cell_type": "markdown",
   "metadata": {},
   "source": [
    "# Ejercicio 5.1.8.8"
   ]
  },
  {
   "cell_type": "markdown",
   "metadata": {},
   "source": [
    "## Dylan Jovani Reyes Rendon"
   ]
  },
  {
   "cell_type": "markdown",
   "metadata": {},
   "source": [
    "### Operadores in y not in"
   ]
  },
  {
   "cell_type": "code",
   "execution_count": 1,
   "metadata": {},
   "outputs": [
    {
     "name": "stdout",
     "output_type": "stream",
     "text": [
      "True\n",
      "False\n",
      "False\n",
      "True\n",
      "False\n"
     ]
    }
   ],
   "source": [
    "# Aquí también funciona el operador in, simplemente comprueba si el argumento izquierdo (una cadena) \n",
    "# se puede encontrar en cualquier lugar dentro del argumento derecho (otra cadena).\n",
    "\n",
    "alpfabeto = \"abcdefghijklmnopqrstuvwxyz\"\n",
    "\n",
    "print(\"f\" in alpfabeto)\n",
    "print(\"F\" in alpfabeto)\n",
    "print(\"1\" in alpfabeto)\n",
    "print(\"ghi\" in alpfabeto)\n",
    "print(\"Xyz\" in alpfabeto)"
   ]
  },
  {
   "cell_type": "code",
   "execution_count": 2,
   "metadata": {},
   "outputs": [
    {
     "name": "stdout",
     "output_type": "stream",
     "text": [
      "False\n",
      "True\n",
      "True\n",
      "False\n",
      "True\n"
     ]
    }
   ],
   "source": [
    "# El operador not in también es aplicable aquí.\n",
    "\n",
    "alfabeto = \"abcdefghijklmnopqrstuvwxyz\"\n",
    "\n",
    "print(\"f\" not in alfabeto)\n",
    "print(\"F\" not in alfabeto)\n",
    "print(\"1\" not in alfabeto)\n",
    "print(\"ghi\" not in alfabeto)\n",
    "print(\"Xyz\" not in alfabeto)"
   ]
  },
  {
   "cell_type": "code",
   "execution_count": null,
   "metadata": {},
   "outputs": [],
   "source": []
  }
 ],
 "metadata": {
  "kernelspec": {
   "display_name": "Python 3",
   "language": "python",
   "name": "python3"
  },
  "language_info": {
   "codemirror_mode": {
    "name": "ipython",
    "version": 3
   },
   "file_extension": ".py",
   "mimetype": "text/x-python",
   "name": "python",
   "nbconvert_exporter": "python",
   "pygments_lexer": "ipython3",
   "version": "3.8.3"
  }
 },
 "nbformat": 4,
 "nbformat_minor": 4
}
