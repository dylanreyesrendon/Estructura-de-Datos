{
 "cells": [
  {
   "cell_type": "markdown",
   "metadata": {},
   "source": [
    "# Ejercicio 5.1.11.1"
   ]
  },
  {
   "cell_type": "markdown",
   "metadata": {},
   "source": [
    "## Dylan Jovani Reyes Rendon"
   ]
  },
  {
   "cell_type": "markdown",
   "metadata": {},
   "source": [
    "### Encriptar un mensaje con el Codigo Cesar"
   ]
  },
  {
   "cell_type": "code",
   "execution_count": 2,
   "metadata": {},
   "outputs": [
    {
     "name": "stdout",
     "output_type": "stream",
     "text": [
      "Ingresa tu mensaje: Hola Mundo\n",
      "IPMBNVOEP\n"
     ]
    }
   ],
   "source": [
    "# Se ha escrito utilizando los siguientes supuestos:\n",
    "#- Solo acepta letras latinas (nota: los romanos no usaban espacios en blanco ni digitos).\n",
    "#- Todas las letras del mensaje estan en mayusculas (nota: los romanos solo conocian las mayusculas).\n",
    "\n",
    "\n",
    "#Veamos el código:\n",
    "\n",
    "#La linea 02: pide al usuario que ingrese un mensaje (sin cifrar) de una linea.\n",
    "#La linea 03: prepara una cadena para el mensaje cifrado (esta vacia por ahora).\n",
    "#La linea 04: inicia la iteracion a traves del mensaje.\n",
    "#La linea 05: si el caracter actual no es alfabetico.\n",
    "#La linea 06: ignoralo.\n",
    "#La linea 07: convierta la letra a mayusculas (es preferible hacerlo a ciegas, en lugar de verificar si es necesario o no).\n",
    "#La linea 08: obten el codigo de la letra e increméntalo en uno.\n",
    "#La linea 09: si el codigo resultante ha \"dejado\" el alfabeto latino (si es mayor que el codigo de la Z).\n",
    "#La linea 10:  cambialo al codigo de la A.\n",
    "#La linea 11: agrega el caracter recibido al final del mensaje cifrado.\n",
    "#La linea 13: imprime el cifrado.\n",
    "\n",
    "# Cifrado Cesar\n",
    "text = input(\"Ingresa tu mensaje: \")\n",
    "cifrado = ''\n",
    "for char in text:\n",
    "    if not char.isalpha():\n",
    "        continue\n",
    "    char = char.upper()\n",
    "    code = ord(char) + 1\n",
    "    if code > ord('Z'):\n",
    "        code = ord('A')\n",
    "    cifrado += chr(code)\n",
    "\n",
    "print(cifrado)\n"
   ]
  },
  {
   "cell_type": "code",
   "execution_count": null,
   "metadata": {},
   "outputs": [],
   "source": []
  }
 ],
 "metadata": {
  "kernelspec": {
   "display_name": "Python 3",
   "language": "python",
   "name": "python3"
  },
  "language_info": {
   "codemirror_mode": {
    "name": "ipython",
    "version": 3
   },
   "file_extension": ".py",
   "mimetype": "text/x-python",
   "name": "python",
   "nbconvert_exporter": "python",
   "pygments_lexer": "ipython3",
   "version": "3.8.3"
  }
 },
 "nbformat": 4,
 "nbformat_minor": 4
}
