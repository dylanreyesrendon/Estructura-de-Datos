{
 "cells": [
  {
   "cell_type": "markdown",
   "metadata": {},
   "source": [
    "# Ejercicio 5.1.11.4"
   ]
  },
  {
   "cell_type": "markdown",
   "metadata": {},
   "source": [
    "## Dylan Jovani Reyes Rendon"
   ]
  },
  {
   "cell_type": "markdown",
   "metadata": {},
   "source": [
    "### Validador IBAN"
   ]
  },
  {
   "cell_type": "code",
   "execution_count": 1,
   "metadata": {},
   "outputs": [
    {
     "name": "stdout",
     "output_type": "stream",
     "text": [
      "Ingresa IBAN, por favor: 0019896754369\n",
      "El IBAN ingresado es demasiado corto.\n"
     ]
    }
   ],
   "source": [
    "# El cuarto programa implementa (en una forma ligeramente simplificada) un algoritmo utilizado por los bancos europeos para especificar los numeros de cuenta.\n",
    "# El estandar llamado IBAN (numero de cuenta bancaria internacional) proporciona un metodo simple y bastante confiable para validar los numeros de cuenta contra errores tipograficos simples que pueden ocurrir durante la reescritura del numero, por ejemplo, de documentos en papel, como facturas o facturas en las computadoras.\n",
    "\n",
    "#Linea 03: Pide al usuario que ingrese el IBAN (el numero puede contener espacios, ya que mejoran significativamente la legibilidad del número.\n",
    "#Linea 04: pero remueve los espacios de inmediato).\n",
    "#Linea 05: El IBAN ingresado debe constar solo de digitos y letras, de lo contrario\n",
    "#Linea 06: muestra un mensaje.\n",
    "#Linea 07: El IBAN no debe tener menos de 15 caracteres (esta es la variante mas corta, utilizada en Noruega).\n",
    "#Linea 08: Si es más corto, se informa al usuario.\n",
    "#Linea 09: Ademas, el IBAN no puede tener más de 31 caracteres (esta es la variante mas larga, utilizada en Malta).\n",
    "#Linea 10: Si es mas largo, se le informa al usuario.\n",
    "#Linea 11: Se comienza con el procesamiento.\n",
    "#Linea 12: Se mueven los cuatro caracteres iniciales al final del numero y se convierten todas las letras a mayusculas (paso 02 del algoritmo).\n",
    "#Linea 13: Esta es la variable utilizada para completar el numero, creada al reemplazar las letras con digitos (de acuerdo con el paso 03 del algoritmo).\n",
    "#Linea 14: Iterar a traves del IBAN.\n",
    "#Linea 15: Si el caracter es un digito.\n",
    "#Linea 16: Se copia.\n",
    "#Linea 17: De lo contrario.\n",
    "#Linea 18: conviertelo en dos digitos (observa como se hace aqui).\n",
    "#Linea 19: La forma convertida del IBAN esta lista: ahora se convierte en un numero entero.\n",
    "#Linea 20: ¿El residuo de la division de iban2 entre 97 es igual a 1?\n",
    "#Linea 21: Si es así, entonces el número es correcto.\n",
    "#Linea 22: De lo contrario.\n",
    "#Linea 23: .el numero no es valido.\n",
    "\n",
    "# Validador IBAN\n",
    "\n",
    "iban = input(\"Ingresa IBAN, por favor: \")\n",
    "iban = iban.replace(' ','')\n",
    "if not iban.isalnum():\n",
    "    print(\"Has introducido caracteres no validos.\")\n",
    "elif len(iban) < 15:\n",
    "    print(\"El IBAN ingresado es demasiado corto.\")\n",
    "elif len(iban) > 31:\n",
    "    print(\"El IBAN ingresado es demasiado largo.\")\n",
    "else:\n",
    "    iban = (iban[4:] + iban[0:4]).upper()\n",
    "    iban2 = ''\n",
    "    for ch in iban:\n",
    "        if ch.isdigit():\n",
    "            iban2 += ch\n",
    "        else:\n",
    "            iban2 += str(10 + ord(ch) - ord('A'))\n",
    "    ibann = int(iban2)\n",
    "    if ibann % 97 == 1:\n",
    "        print(\"El IBAN ingresado es valido.\")\n",
    "    else:\n",
    "        print(\"El IBAN ingresado no es valido.\")"
   ]
  },
  {
   "cell_type": "code",
   "execution_count": null,
   "metadata": {},
   "outputs": [],
   "source": []
  },
  {
   "cell_type": "code",
   "execution_count": null,
   "metadata": {},
   "outputs": [],
   "source": []
  }
 ],
 "metadata": {
  "kernelspec": {
   "display_name": "Python 3",
   "language": "python",
   "name": "python3"
  },
  "language_info": {
   "codemirror_mode": {
    "name": "ipython",
    "version": 3
   },
   "file_extension": ".py",
   "mimetype": "text/x-python",
   "name": "python",
   "nbconvert_exporter": "python",
   "pygments_lexer": "ipython3",
   "version": "3.8.3"
  }
 },
 "nbformat": 4,
 "nbformat_minor": 4
}
