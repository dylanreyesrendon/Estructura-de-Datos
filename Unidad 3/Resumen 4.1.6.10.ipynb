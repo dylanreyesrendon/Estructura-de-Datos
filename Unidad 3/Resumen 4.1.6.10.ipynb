{
 "cells": [
  {
   "cell_type": "markdown",
   "metadata": {},
   "source": [
    "# Resumen 4.1.6.10"
   ]
  },
  {
   "cell_type": "markdown",
   "metadata": {},
   "source": [
    "## Dylan Jovani Reyes Rendon"
   ]
  },
  {
   "cell_type": "code",
   "execution_count": 1,
   "metadata": {},
   "outputs": [
    {
     "name": "stdout",
     "output_type": "stream",
     "text": [
      "(1, 2, True, 'una cadena', (3, 4), [5, 6], None)\n",
      "[1, 2, True, 'una cadena', (3, 4), [5, 6], None]\n"
     ]
    }
   ],
   "source": [
    "# Las tuplas son colecciones de datos ordenadas e inmutables\n",
    "# Se puede pensar en ellas como listas inmutables. Se definen como parentesis\n",
    "mitupla = (1, 2, True, \"una cadena\", (3, 4), [5, 6], None)\n",
    "print(mitupla)\n",
    "\n",
    "milista = [1, 2, True, \"una cadena\", (3, 4), [5, 6], None]\n",
    "print(milista)"
   ]
  },
  {
   "cell_type": "code",
   "execution_count": 2,
   "metadata": {},
   "outputs": [
    {
     "name": "stdout",
     "output_type": "stream",
     "text": [
      "<class 'tuple'>\n"
     ]
    }
   ],
   "source": [
    "# Se puede crear una tupla vacia de la siguiente manera\n",
    "tuplaVacia = ()\n",
    "print(type(tuplaVacia))  # Salida <class 'tuple'>"
   ]
  },
  {
   "cell_type": "code",
   "execution_count": 3,
   "metadata": {},
   "outputs": [
    {
     "name": "stdout",
     "output_type": "stream",
     "text": [
      "Uno\n",
      "Uno\n",
      "<class 'int'>\n",
      "<class 'int'>\n"
     ]
    }
   ],
   "source": [
    "# La tupla de un solo elemento se define de la siguiente manera\n",
    "tuplaUnElemento = (\"Uno\")   # paretesis y coma\n",
    "tuplaUnElemento2 = (\"Uno\")   # sin parentesis, solo coma\n",
    "\n",
    "print(tuplaUnElemento)\n",
    "print(tuplaUnElemento2)\n",
    "\n",
    "# Si se elimina la coma, Python creara una variable mas no una tupla\n",
    "\n",
    "mitupla1 = 1\n",
    "print(type(mitupla1))     # Salida <class 'tuple'>\n",
    "\n",
    "mitupla2 = 1\n",
    "print(type(mitupla2))     # Salida <class 'int'>"
   ]
  },
  {
   "cell_type": "code",
   "execution_count": 14,
   "metadata": {},
   "outputs": [
    {
     "name": "stdout",
     "output_type": "stream",
     "text": [
      "[3, 4]\n"
     ]
    }
   ],
   "source": [
    "# se pueden acceder los elementos de la tupla al inderxarlos\n",
    "mitupla = (1, 2.0, \"cadena\", [3, 4],  (3, ), True)\n",
    "print(mitupla[3])   # salida = [3, 4]"
   ]
  },
  {
   "cell_type": "code",
   "execution_count": 1,
   "metadata": {},
   "outputs": [
    {
     "ename": "NameError",
     "evalue": "name 'mitupla' is not defined",
     "output_type": "error",
     "traceback": [
      "\u001b[1;31m---------------------------------------------------------------------------\u001b[0m",
      "\u001b[1;31mNameError\u001b[0m                                 Traceback (most recent call last)",
      "\u001b[1;32m<ipython-input-1-03fc1dff23a0>\u001b[0m in \u001b[0;36m<module>\u001b[1;34m\u001b[0m\n\u001b[0;32m      2\u001b[0m \u001b[1;31m# El siguiente fragmento de codigo provocara una excepcion\u001b[0m\u001b[1;33m\u001b[0m\u001b[1;33m\u001b[0m\u001b[1;33m\u001b[0m\u001b[0m\n\u001b[0;32m      3\u001b[0m \u001b[0mmTupla\u001b[0m \u001b[1;33m=\u001b[0m \u001b[1;33m(\u001b[0m\u001b[1;36m1\u001b[0m\u001b[1;33m,\u001b[0m \u001b[1;36m2.0\u001b[0m\u001b[1;33m,\u001b[0m \u001b[1;34m\"cadena\"\u001b[0m\u001b[1;33m,\u001b[0m \u001b[1;33m[\u001b[0m\u001b[1;36m3\u001b[0m\u001b[1;33m,\u001b[0m \u001b[1;36m4\u001b[0m\u001b[1;33m]\u001b[0m\u001b[1;33m,\u001b[0m \u001b[1;33m(\u001b[0m\u001b[1;36m5\u001b[0m\u001b[1;33m,\u001b[0m \u001b[1;33m)\u001b[0m\u001b[1;33m,\u001b[0m \u001b[1;32mTrue\u001b[0m\u001b[1;33m)\u001b[0m\u001b[1;33m\u001b[0m\u001b[1;33m\u001b[0m\u001b[0m\n\u001b[1;32m----> 4\u001b[1;33m \u001b[0mmitupla\u001b[0m\u001b[1;33m[\u001b[0m\u001b[1;36m2\u001b[0m\u001b[1;33m]\u001b[0m \u001b[1;33m=\u001b[0m \u001b[1;34m\"guitarra\"\u001b[0m\u001b[1;33m\u001b[0m\u001b[1;33m\u001b[0m\u001b[0m\n\u001b[0m",
      "\u001b[1;31mNameError\u001b[0m: name 'mitupla' is not defined"
     ]
    }
   ],
   "source": [
    "# Las tuplas son inmutables, lo que significa que no se pueden agregar, modificar, cambiar o quitar elementos\n",
    "# El siguiente fragmento de codigo provocara una excepcion\n",
    "mTupla = (1, 2.0, \"cadena\", [3, 4], (5, ), True)\n",
    "mitupla[2] = \"guitarra\""
   ]
  },
  {
   "cell_type": "code",
   "execution_count": 2,
   "metadata": {},
   "outputs": [
    {
     "ename": "NameError",
     "evalue": "name 'miTupla' is not defined",
     "output_type": "error",
     "traceback": [
      "\u001b[1;31m---------------------------------------------------------------------------\u001b[0m",
      "\u001b[1;31mNameError\u001b[0m                                 Traceback (most recent call last)",
      "\u001b[1;32m<ipython-input-2-9ae1b65429a7>\u001b[0m in \u001b[0;36m<module>\u001b[1;34m\u001b[0m\n\u001b[0;32m      2\u001b[0m \u001b[0mmiTupla\u001b[0m \u001b[1;33m=\u001b[0m \u001b[1;36m1\u001b[0m\u001b[1;33m,\u001b[0m \u001b[1;36m2\u001b[0m\u001b[1;33m,\u001b[0m \u001b[1;36m3\u001b[0m\u001b[1;33m\u001b[0m\u001b[1;33m\u001b[0m\u001b[0m\n\u001b[0;32m      3\u001b[0m \u001b[1;32mdel\u001b[0m \u001b[0mmiTupla\u001b[0m\u001b[1;33m\u001b[0m\u001b[1;33m\u001b[0m\u001b[0m\n\u001b[1;32m----> 4\u001b[1;33m \u001b[0mprint\u001b[0m\u001b[1;33m(\u001b[0m\u001b[0mmiTupla\u001b[0m\u001b[1;33m)\u001b[0m\u001b[1;33m\u001b[0m\u001b[1;33m\u001b[0m\u001b[0m\n\u001b[0m",
      "\u001b[1;31mNameError\u001b[0m: name 'miTupla' is not defined"
     ]
    }
   ],
   "source": [
    "#sin embargo se puede eliminar la tupla completa\n",
    "miTupla = 1, 2, 3\n",
    "del miTupla\n",
    "print(miTupla)"
   ]
  },
  {
   "cell_type": "code",
   "execution_count": 4,
   "metadata": {},
   "outputs": [
    {
     "name": "stdout",
     "output_type": "stream",
     "text": [
      "1\n",
      "2\n",
      "3\n",
      "False\n",
      "True\n",
      "4\n",
      "(1, 2, 3, 1, 2, 3, 4)\n",
      "(1, 2, 3, 5, 1, 2, 3, 5)\n"
     ]
    }
   ],
   "source": [
    "# Puedes navegar a traves de los elementos de una tupla con un bucle (Ejemplo 1) verificar si un elemento o no, esta presente en la tupla\n",
    "#(Ejemplo 2) emplear la funcion len() para verificar cuantos elementos exixten \n",
    "#(Ejemplo 3) incluso unir o multiplicar tuplas\n",
    "\n",
    "# Ejemplo 1\n",
    "t1 = (1, 2, 3)\n",
    "for elem in t1:\n",
    "    print(elem)\n",
    "    \n",
    "    \n",
    "    \n",
    "# Ejemplo 2\n",
    "t2 = (1, 2, 3, 4)\n",
    "print(5 in t2 )\n",
    "print(5 not in t2)\n",
    "\n",
    "\n",
    "\n",
    "\n",
    "# Ejemplo 3\n",
    "t3 = (1, 2, 3, 5)\n",
    "print(len(t3))\n",
    "\n",
    "\n",
    "\n",
    "\n",
    "# Ejemplo 4\n",
    "t4 = t1 + t2\n",
    "t5 = t3 * 2\n",
    "print(t4)\n",
    "print(t5)\n"
   ]
  },
  {
   "cell_type": "code",
   "execution_count": 8,
   "metadata": {},
   "outputs": [
    {
     "name": "stdout",
     "output_type": "stream",
     "text": [
      "(1, 2, 'cadena')\n",
      "[2, 4, 6]\n",
      "<class 'list'>\n",
      "(2, 4, 6)\n",
      "<class 'tuple'>\n"
     ]
    }
   ],
   "source": [
    "# Tambien se puede crear una tupla utilizando la funcion integrada de Python tuple\n",
    "# Esto es particularmente util cuando se desea convertir un iterable\n",
    "# Ejemplo (una lista, rango, cadena, etcetera)\n",
    "\n",
    "mitupla = tuple((1, 2, \"cadena\"))\n",
    "print(mitupla)\n",
    "\n",
    "lst = [2, 4, 6]\n",
    "print(lst)       # Salida [2, 4, 6]\n",
    "\n",
    "print(type(lst))        # Salida= <class 'list'>\n",
    "\n",
    "tupla = tuple(lst)           # outputs (2, 4, 6)\n",
    "print(tupla)\n",
    "\n",
    "print(type(tupla))                # <class 'tuple'>"
   ]
  },
  {
   "cell_type": "code",
   "execution_count": 10,
   "metadata": {},
   "outputs": [
    {
     "name": "stdout",
     "output_type": "stream",
     "text": [
      "<class 'list'>\n"
     ]
    }
   ],
   "source": [
    "# De la misma manera cuando se deseea convertir un iterable en una lista, se puede emplear la funcion integrada de Python denominada list()\n",
    "\n",
    "tupla = 1, 2, 3\n",
    "lst = list(tupla)\n",
    "print(type(lst))     # outputs <class 'list'>"
   ]
  },
  {
   "cell_type": "code",
   "execution_count": null,
   "metadata": {},
   "outputs": [],
   "source": []
  }
 ],
 "metadata": {
  "kernelspec": {
   "display_name": "Python 3",
   "language": "python",
   "name": "python3"
  },
  "language_info": {
   "codemirror_mode": {
    "name": "ipython",
    "version": 3
   },
   "file_extension": ".py",
   "mimetype": "text/x-python",
   "name": "python",
   "nbconvert_exporter": "python",
   "pygments_lexer": "ipython3",
   "version": "3.8.3"
  }
 },
 "nbformat": 4,
 "nbformat_minor": 4
}
