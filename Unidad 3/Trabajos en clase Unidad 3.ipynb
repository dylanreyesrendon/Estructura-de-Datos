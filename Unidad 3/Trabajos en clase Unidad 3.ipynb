{
 "cells": [
  {
   "cell_type": "markdown",
   "metadata": {},
   "source": [
    "# Unidad 3"
   ]
  },
  {
   "cell_type": "markdown",
   "metadata": {},
   "source": [
    "## Dylan Jovani Reyes Rendon 19041355"
   ]
  },
  {
   "cell_type": "markdown",
   "metadata": {},
   "source": [
    "### Trabajos Hechos en Clase"
   ]
  },
  {
   "cell_type": "markdown",
   "metadata": {},
   "source": [
    "### Funciones"
   ]
  },
  {
   "cell_type": "code",
   "execution_count": 8,
   "metadata": {},
   "outputs": [],
   "source": [
    "def mi_funcion_hola():\n",
    "    print(\"Hola Mundo, desde mi funcion\")"
   ]
  },
  {
   "cell_type": "code",
   "execution_count": 9,
   "metadata": {},
   "outputs": [
    {
     "name": "stdout",
     "output_type": "stream",
     "text": [
      "Hola Mundo, desde mi funcion\n"
     ]
    }
   ],
   "source": [
    "mi_funcion_hola()"
   ]
  },
  {
   "cell_type": "code",
   "execution_count": 10,
   "metadata": {},
   "outputs": [
    {
     "name": "stdout",
     "output_type": "stream",
     "text": [
      "Hola Mundo, desde mi funcion\n"
     ]
    }
   ],
   "source": [
    "mi_funcion_hola()"
   ]
  },
  {
   "cell_type": "code",
   "execution_count": 39,
   "metadata": {},
   "outputs": [
    {
     "name": "stdout",
     "output_type": "stream",
     "text": [
      "2 por 1 = 2\n",
      "2 por 2 = 4\n",
      "2 por 3 = 6\n",
      "2 por 4 = 8\n",
      "2 por 5 = 10\n",
      "2 por 6 = 12\n",
      "2 por 7 = 14\n",
      "2 por 8 = 16\n",
      "2 por 9 = 18\n",
      "2 por 10 = 20\n"
     ]
    }
   ],
   "source": [
    "# Tabla de multiplicar del 2\n",
    "for z in range(1,2):\n",
    "    print(2, \"por\", z, \"=\", 2*1)\n",
    "for z in range(2,3):\n",
    "    print(2, \"por\", z, \"=\", 2*2)\n",
    "for z in range(3,4):\n",
    "    print(2, \"por\", z, \"=\", 2*3)\n",
    "for z in range(4,5):\n",
    "    print(2, \"por\", z, \"=\", 2*4)    \n",
    "for z in range(5,6):\n",
    "    print(2, \"por\", z, \"=\", 2*5)\n",
    "for z in range(6,7):\n",
    "    print(2, \"por\", z, \"=\", 2*6)\n",
    "for z in range(7,8):\n",
    "    print(2, \"por\", z, \"=\", 2*7)\n",
    "for z in range(8,9):\n",
    "    print(2, \"por\", z, \"=\", 2*8)\n",
    "for z in range(9,10):\n",
    "    print(2, \"por\", z, \"=\", 2*9)\n",
    "for z in range(10,11):\n",
    "    print(2, \"por\", z, \"=\", 2*10)"
   ]
  },
  {
   "cell_type": "code",
   "execution_count": 23,
   "metadata": {},
   "outputs": [],
   "source": [
    "def Tablas_multiplicar(x):\n",
    "    for z in range(1,11):\n",
    "        print(x, \"por\", z, \"=\", x * z)"
   ]
  },
  {
   "cell_type": "code",
   "execution_count": 40,
   "metadata": {},
   "outputs": [
    {
     "name": "stdout",
     "output_type": "stream",
     "text": [
      "4 por 1 = 4\n",
      "4 por 2 = 8\n",
      "4 por 3 = 12\n",
      "4 por 4 = 16\n",
      "4 por 5 = 20\n",
      "4 por 6 = 24\n",
      "4 por 7 = 28\n",
      "4 por 8 = 32\n",
      "4 por 9 = 36\n",
      "4 por 10 = 40\n"
     ]
    }
   ],
   "source": [
    "Tablas_multiplicar(4)"
   ]
  },
  {
   "cell_type": "code",
   "execution_count": 13,
   "metadata": {},
   "outputs": [
    {
     "name": "stdout",
     "output_type": "stream",
     "text": [
      "7 por 1 = 7\n",
      "7 por 2 = 14\n",
      "7 por 3 = 21\n",
      "7 por 4 = 28\n",
      "7 por 5 = 35\n",
      "7 por 6 = 42\n",
      "7 por 7 = 49\n",
      "7 por 8 = 56\n",
      "7 por 9 = 63\n",
      "7 por 10 = 70\n"
     ]
    }
   ],
   "source": [
    "Tablas_multiplicar(7)"
   ]
  },
  {
   "cell_type": "code",
   "execution_count": 14,
   "metadata": {},
   "outputs": [
    {
     "name": "stdout",
     "output_type": "stream",
     "text": [
      "50 por 1 = 50\n",
      "50 por 2 = 100\n",
      "50 por 3 = 150\n",
      "50 por 4 = 200\n",
      "50 por 5 = 250\n",
      "50 por 6 = 300\n",
      "50 por 7 = 350\n",
      "50 por 8 = 400\n",
      "50 por 9 = 450\n",
      "50 por 10 = 500\n"
     ]
    }
   ],
   "source": [
    "Tablas_multiplicar(50)"
   ]
  },
  {
   "cell_type": "code",
   "execution_count": 16,
   "metadata": {},
   "outputs": [
    {
     "name": "stdout",
     "output_type": "stream",
     "text": [
      "1543250 por 1 = 1543250\n",
      "1543250 por 2 = 3086500\n",
      "1543250 por 3 = 4629750\n",
      "1543250 por 4 = 6173000\n",
      "1543250 por 5 = 7716250\n",
      "1543250 por 6 = 9259500\n",
      "1543250 por 7 = 10802750\n",
      "1543250 por 8 = 12346000\n",
      "1543250 por 9 = 13889250\n",
      "1543250 por 10 = 15432500\n"
     ]
    }
   ],
   "source": [
    "Tablas_multiplicar(1543250)"
   ]
  },
  {
   "cell_type": "code",
   "execution_count": 31,
   "metadata": {},
   "outputs": [],
   "source": [
    "def CalcularDoble(qaz):\n",
    "    qaz=qaz*2\n",
    "    return qaz"
   ]
  },
  {
   "cell_type": "code",
   "execution_count": 33,
   "metadata": {},
   "outputs": [
    {
     "name": "stdout",
     "output_type": "stream",
     "text": [
      "12\n"
     ]
    }
   ],
   "source": [
    "x = CalcularDoble(6)\n",
    "print(x)"
   ]
  },
  {
   "cell_type": "code",
   "execution_count": 34,
   "metadata": {},
   "outputs": [
    {
     "name": "stdout",
     "output_type": "stream",
     "text": [
      "162\n"
     ]
    }
   ],
   "source": [
    "x = CalcularDoble(81)\n",
    "print(x)"
   ]
  },
  {
   "cell_type": "code",
   "execution_count": 42,
   "metadata": {},
   "outputs": [
    {
     "name": "stdout",
     "output_type": "stream",
     "text": [
      "1000\n"
     ]
    }
   ],
   "source": [
    "x = CalcularDoble(500)\n",
    "print(x)"
   ]
  },
  {
   "cell_type": "code",
   "execution_count": 2,
   "metadata": {},
   "outputs": [],
   "source": [
    "def CalcularTriple(qaz):\n",
    "    qaz=qaz*3\n",
    "    return qaz"
   ]
  },
  {
   "cell_type": "code",
   "execution_count": 3,
   "metadata": {},
   "outputs": [
    {
     "name": "stdout",
     "output_type": "stream",
     "text": [
      "45\n"
     ]
    }
   ],
   "source": [
    "x = CalcularTriple(15)\n",
    "print(x)"
   ]
  },
  {
   "cell_type": "markdown",
   "metadata": {},
   "source": [
    "## Paso de parametros en su posicion"
   ]
  },
  {
   "cell_type": "code",
   "execution_count": 11,
   "metadata": {},
   "outputs": [
    {
     "name": "stdout",
     "output_type": "stream",
     "text": [
      "Hola, mi nombre es: Luke Skylwalker\n",
      "Hola, mi nombre es: Jesse Quick\n",
      "Hola, mi nombre es: Clark Kent\n"
     ]
    }
   ],
   "source": [
    "# Paso de parametros respecto a su posicion\n",
    "def presentar(PrimerNombre, SegundoNombre):\n",
    "    print(\"Hola, mi nombre es:\", PrimerNombre, SegundoNombre)\n",
    "presentar(\"Luke\",  \"Skylwalker\")\n",
    "presentar(\"Jesse\", \"Quick\")\n",
    "presentar(\"Clark\", \"Kent\")"
   ]
  },
  {
   "cell_type": "code",
   "execution_count": 17,
   "metadata": {},
   "outputs": [
    {
     "name": "stdout",
     "output_type": "stream",
     "text": [
      "Hola, mi nombre es: Skylwalker Luke Mi edad es: 8\n",
      "Hola, mi nombre es: Quick Jesse Mi edad es: 5\n",
      "Hola, mi nombre es: Kent Clark Mi edad es: 23\n"
     ]
    }
   ],
   "source": [
    "def presentar(PrimerNombre, SegundoNombre, Edad):\n",
    "    print(\"Hola, mi nombre es:\", PrimerNombre, SegundoNombre, \"Mi edad es:\", Edad)\n",
    "presentar(\"Skylwalker\",  \"Luke\", 8)\n",
    "presentar(\"Quick\", \"Jesse\", 5)\n",
    "presentar(\"Kent\", \"Clark\", 23)"
   ]
  },
  {
   "cell_type": "markdown",
   "metadata": {},
   "source": [
    "## Paso de parametros en su posicion palabras clave (Nombre del parametro)\n",
    "\n",
    "#### Los valores pasados a los parametros son precedidos por el nombre del parametro al que se le va a pasar el valor, seguido del signo de ="
   ]
  },
  {
   "cell_type": "code",
   "execution_count": 8,
   "metadata": {},
   "outputs": [
    {
     "name": "stdout",
     "output_type": "stream",
     "text": [
      "Hola, mi nombre es: James Bond\n",
      "Hola, mi nombre es: Skylwalker Luke\n"
     ]
    }
   ],
   "source": [
    "def presentar(PrimerNombre, SegundoNombre):\n",
    "    print(\"Hola, mi nombre es:\", PrimerNombre, SegundoNombre)\n",
    "presentar(PrimerNombre = \"James\", SegundoNombre = \"Bond\")\n",
    "presentar(PrimerNombre = \"Skylwalker\", SegundoNombre = \"Luke\")\n"
   ]
  },
  {
   "cell_type": "code",
   "execution_count": 12,
   "metadata": {},
   "outputs": [
    {
     "name": "stdout",
     "output_type": "stream",
     "text": [
      "Hola, mi nombre es: James Bond\n",
      "Hola, mi nombre es: Luke Skylwalker\n"
     ]
    }
   ],
   "source": [
    "def presentar(PrimerNombre, SegundoNombre):\n",
    "    print(\"Hola, mi nombre es:\", PrimerNombre, SegundoNombre)\n",
    "presentar(\"James\", \"Bond\")\n",
    "presentar(SegundoNombre = \"Skylwalker\", PrimerNombre = \"Luke\")\n"
   ]
  },
  {
   "cell_type": "code",
   "execution_count": 15,
   "metadata": {},
   "outputs": [
    {
     "name": "stdout",
     "output_type": "stream",
     "text": [
      "Hola, mi nombre es: Juan Escarpita\n",
      "Hola, mi nombre es: Pedro Gonzales\n"
     ]
    }
   ],
   "source": [
    "# Especificar un parametro con un valor por defecto\n",
    "def presentar(PrimerNombre, SegundoNombre=\"Gonzales\"):\n",
    "    print(\"Hola, mi nombre es:\", PrimerNombre, SegundoNombre)\n",
    "presentar(\"Juan\", \"Escarpita\")\n",
    "presentar(\"Pedro\")"
   ]
  },
  {
   "cell_type": "code",
   "execution_count": 16,
   "metadata": {},
   "outputs": [
    {
     "name": "stdout",
     "output_type": "stream",
     "text": [
      "Hola, mi nombre es: Juan Escarpita\n"
     ]
    },
    {
     "ename": "TypeError",
     "evalue": "presentar() missing 1 required positional argument: 'SegundoNombre'",
     "output_type": "error",
     "traceback": [
      "\u001b[1;31m---------------------------------------------------------------------------\u001b[0m",
      "\u001b[1;31mTypeError\u001b[0m                                 Traceback (most recent call last)",
      "\u001b[1;32m<ipython-input-16-59c925573370>\u001b[0m in \u001b[0;36m<module>\u001b[1;34m\u001b[0m\n\u001b[0;32m      2\u001b[0m     \u001b[0mprint\u001b[0m\u001b[1;33m(\u001b[0m\u001b[1;34m\"Hola, mi nombre es:\"\u001b[0m\u001b[1;33m,\u001b[0m \u001b[0mPrimerNombre\u001b[0m\u001b[1;33m,\u001b[0m \u001b[0mSegundoNombre\u001b[0m\u001b[1;33m)\u001b[0m\u001b[1;33m\u001b[0m\u001b[1;33m\u001b[0m\u001b[0m\n\u001b[0;32m      3\u001b[0m \u001b[0mpresentar\u001b[0m\u001b[1;33m(\u001b[0m\u001b[1;34m\"Juan\"\u001b[0m\u001b[1;33m,\u001b[0m \u001b[1;34m\"Escarpita\"\u001b[0m\u001b[1;33m)\u001b[0m\u001b[1;33m\u001b[0m\u001b[1;33m\u001b[0m\u001b[0m\n\u001b[1;32m----> 4\u001b[1;33m \u001b[0mpresentar\u001b[0m\u001b[1;33m(\u001b[0m\u001b[1;34m\"Pedro\"\u001b[0m\u001b[1;33m)\u001b[0m\u001b[1;33m\u001b[0m\u001b[1;33m\u001b[0m\u001b[0m\n\u001b[0m",
      "\u001b[1;31mTypeError\u001b[0m: presentar() missing 1 required positional argument: 'SegundoNombre'"
     ]
    }
   ],
   "source": [
    "# Error si no asignamos un valor a la segunda variable\n",
    "def presentar(PrimerNombre, SegundoNombre):\n",
    "    print(\"Hola, mi nombre es:\", PrimerNombre, SegundoNombre)\n",
    "presentar(\"Juan\", \"Escarpita\")\n",
    "presentar(\"Pedro\")"
   ]
  },
  {
   "cell_type": "code",
   "execution_count": null,
   "metadata": {},
   "outputs": [],
   "source": []
  }
 ],
 "metadata": {
  "kernelspec": {
   "display_name": "Python 3",
   "language": "python",
   "name": "python3"
  },
  "language_info": {
   "codemirror_mode": {
    "name": "ipython",
    "version": 3
   },
   "file_extension": ".py",
   "mimetype": "text/x-python",
   "name": "python",
   "nbconvert_exporter": "python",
   "pygments_lexer": "ipython3",
   "version": "3.8.3"
  }
 },
 "nbformat": 4,
 "nbformat_minor": 4
}
