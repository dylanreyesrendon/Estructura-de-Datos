{
 "cells": [
  {
   "cell_type": "markdown",
   "metadata": {},
   "source": [
    "# Lab 4.1.3.9"
   ]
  },
  {
   "cell_type": "markdown",
   "metadata": {},
   "source": [
    "## Dylan Reyes Rendon"
   ]
  },
  {
   "cell_type": "code",
   "execution_count": 1,
   "metadata": {},
   "outputs": [
    {
     "name": "stdout",
     "output_type": "stream",
     "text": [
      "2 3 5 7 11 13 17 19 \n"
     ]
    }
   ],
   "source": [
    "def IsPrime(Numero):\n",
    "    Divisor = 2\n",
    "    while Divisor < Numero:\n",
    "        if Numero % Divisor == 0:\n",
    "            return(False)\n",
    "        Divisor += 1\n",
    "    return(True)\n",
    "for i in range(1,20):\n",
    "    if IsPrime(i + 1):\n",
    "        print(i + 1, end= \" \")\n",
    "print()"
   ]
  },
  {
   "cell_type": "code",
   "execution_count": 3,
   "metadata": {},
   "outputs": [
    {
     "name": "stdout",
     "output_type": "stream",
     "text": [
      "2 3 5 7 11 13 17 19 23 29 31 37 41 43 47 53 59 61 67 71 73 79 83 89 97 101 103 107 109 113 127 131 137 139 149 151 157 163 167 173 179 181 191 193 197 199 \n"
     ]
    }
   ],
   "source": [
    "# Intente hacer mas ejemplos\n",
    "def IsPrime(Numero):\n",
    "    Divisor = 2\n",
    "    while Divisor < Numero:\n",
    "        if Numero % Divisor == 0:\n",
    "            return(False)\n",
    "        Divisor += 1\n",
    "    return(True)\n",
    "for i in range(1,200):\n",
    "    if IsPrime(i + 1):\n",
    "        print(i + 1, end= \" \")\n",
    "print()"
   ]
  },
  {
   "cell_type": "code",
   "execution_count": 4,
   "metadata": {},
   "outputs": [
    {
     "name": "stdout",
     "output_type": "stream",
     "text": [
      "5 7 11 13 17 19 \n"
     ]
    }
   ],
   "source": [
    "def IsPrime(Numero):\n",
    "    Divisor = 2\n",
    "    while Divisor < Numero:\n",
    "        if Numero % Divisor == 0:\n",
    "            return(False)\n",
    "        Divisor += 1\n",
    "    return(True)\n",
    "for i in range(1,20):\n",
    "    if IsPrime(i + 3):\n",
    "        print(i + 3, end= \" \")\n",
    "print()"
   ]
  },
  {
   "cell_type": "code",
   "execution_count": null,
   "metadata": {},
   "outputs": [],
   "source": []
  }
 ],
 "metadata": {
  "kernelspec": {
   "display_name": "Python 3",
   "language": "python",
   "name": "python3"
  },
  "language_info": {
   "codemirror_mode": {
    "name": "ipython",
    "version": 3
   },
   "file_extension": ".py",
   "mimetype": "text/x-python",
   "name": "python",
   "nbconvert_exporter": "python",
   "pygments_lexer": "ipython3",
   "version": "3.8.3"
  }
 },
 "nbformat": 4,
 "nbformat_minor": 4
}
