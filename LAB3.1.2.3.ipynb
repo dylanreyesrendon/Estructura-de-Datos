{
 "cells": [
  {
   "cell_type": "code",
   "execution_count": 2,
   "metadata": {},
   "outputs": [
    {
     "name": "stdout",
     "output_type": "stream",
     "text": [
      "\n",
      "+=====================+\n",
      "/ Bienvenido a mi juego, muggle!\n",
      "/ Introduce un numero entero\n",
      "/ y adivina que numero es\n",
      "/ elegido para ti.\n",
      "/ ¿Cual es el numero secreto?\n",
      "+=====================+\n",
      "\n"
     ]
    },
    {
     "name": "stdin",
     "output_type": "stream",
     "text": [
      " 3\n"
     ]
    },
    {
     "name": "stdout",
     "output_type": "stream",
     "text": [
      "¡Bien hecho,muggle! ¡Estas atrapado en mi ciclo!\n"
     ]
    }
   ],
   "source": [
    "numeroSecreto = 3\n",
    "print(\n",
    "\"\"\"\n",
    "+=====================+\n",
    "/ Bienvenido a mi juego, muggle!\n",
    "/ Introduce un numero entero\n",
    "/ y adivina que numero es\n",
    "/ elegido para ti.\n",
    "/ ¿Cual es el numero secreto?\n",
    "+=====================+\n",
    "\"\"\")\n",
    "a = int(input())\n",
    "if a == numeroSecreto:\n",
    "    print(\"¡Bien hecho,muggle! ¡Estas atrapado en mi ciclo!\")"
   ]
  },
  {
   "cell_type": "code",
   "execution_count": null,
   "metadata": {},
   "outputs": [],
   "source": []
  }
 ],
 "metadata": {
  "kernelspec": {
   "display_name": "Python 3",
   "language": "python",
   "name": "python3"
  },
  "language_info": {
   "codemirror_mode": {
    "name": "ipython",
    "version": 3
   },
   "file_extension": ".py",
   "mimetype": "text/x-python",
   "name": "python",
   "nbconvert_exporter": "python",
   "pygments_lexer": "ipython3",
   "version": "3.8.3"
  }
 },
 "nbformat": 4,
 "nbformat_minor": 4
}
